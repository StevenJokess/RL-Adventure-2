{
  "nbformat": 4,
  "nbformat_minor": 0,
  "metadata": {
    "kernelspec": {
      "display_name": "Python [conda env:pytorch4]",
      "language": "python",
      "name": "conda-env-pytorch4-py"
    },
    "language_info": {
      "codemirror_mode": {
        "name": "ipython",
        "version": 3
      },
      "file_extension": ".py",
      "mimetype": "text/x-python",
      "name": "python",
      "nbconvert_exporter": "python",
      "pygments_lexer": "ipython3",
      "version": "3.5.5"
    },
    "colab": {
      "name": "3.ppo.ipynb",
      "provenance": []
    },
    "accelerator": "GPU"
  },
  "cells": [
    {
      "cell_type": "code",
      "metadata": {
        "id": "PbaHh0K1LqEY",
        "outputId": "554bb1fe-dc70-4060-fbe5-d8fc42b30715",
        "colab": {
          "base_uri": "https://localhost:8080/"
        }
      },
      "source": [
        "!pip install git+https://github.com/StevenJokess/RL-Adventure-2\r\n",
        "!git clone https://github.com/StevenJokess/RL-Adventure-2\r\n",
        "%cd RL-Adventure-2\r\n",
        "!ls"
      ],
      "execution_count": 1,
      "outputs": [
        {
          "output_type": "stream",
          "text": [
            "Collecting git+https://github.com/StevenJokess/RL-Adventure-2\n",
            "  Cloning https://github.com/StevenJokess/RL-Adventure-2 to /tmp/pip-req-build-56voypy5\n",
            "  Running command git clone -q https://github.com/StevenJokess/RL-Adventure-2 /tmp/pip-req-build-56voypy5\n",
            "\u001b[31mERROR: Command errored out with exit status 1: python setup.py egg_info Check the logs for full command output.\u001b[0m\n",
            "fatal: destination path 'RL-Adventure-2' already exists and is not an empty directory.\n",
            "/content/RL-Adventure-2\n",
            "'1.actor-critic(colab).ipynb'   4.acer.ipynb\t\t     9.her.ipynb\n",
            " 1.actor-critic.ipynb\t        5.ddpg.ipynb\t\t     common\n",
            "'2.gae(colab).ipynb'\t        6.td3.ipynb\t\t     README.md\n",
            " 2.gae.ipynb\t\t       '7.soft actor-critic.ipynb'\n",
            " 3.ppo.ipynb\t\t        8.gail.ipynb\n"
          ],
          "name": "stdout"
        }
      ]
    },
    {
      "cell_type": "code",
      "metadata": {
        "id": "q07DBS6-LUWr"
      },
      "source": [
        "import math\n",
        "import random\n",
        "\n",
        "import gym\n",
        "import numpy as np\n",
        "\n",
        "import torch\n",
        "import torch.nn as nn\n",
        "import torch.optim as optim\n",
        "import torch.nn.functional as F\n",
        "from torch.distributions import Normal"
      ],
      "execution_count": 2,
      "outputs": []
    },
    {
      "cell_type": "code",
      "metadata": {
        "id": "_l_OoOP7LUW0"
      },
      "source": [
        "from IPython.display import clear_output\n",
        "import matplotlib.pyplot as plt\n",
        "%matplotlib inline"
      ],
      "execution_count": 3,
      "outputs": []
    },
    {
      "cell_type": "markdown",
      "metadata": {
        "id": "4P1Pfq0ELUW1"
      },
      "source": [
        "<h2>Use CUDA</h2>"
      ]
    },
    {
      "cell_type": "code",
      "metadata": {
        "id": "8Mr4HFkRLUW2"
      },
      "source": [
        "use_cuda = torch.cuda.is_available()\n",
        "device   = torch.device(\"cuda\" if use_cuda else \"cpu\")"
      ],
      "execution_count": 4,
      "outputs": []
    },
    {
      "cell_type": "markdown",
      "metadata": {
        "id": "9Zryqg1ULUW2"
      },
      "source": [
        "<h2>Create Environments</h2>"
      ]
    },
    {
      "cell_type": "code",
      "metadata": {
        "id": "WGNIWlbiLUW2"
      },
      "source": [
        "from common.multiprocessing_env import SubprocVecEnv\n",
        "\n",
        "num_envs = 16\n",
        "env_name = \"Pendulum-v0\"\n",
        "\n",
        "def make_env():\n",
        "    def _thunk():\n",
        "        env = gym.make(env_name)\n",
        "        return env\n",
        "\n",
        "    return _thunk\n",
        "\n",
        "envs = [make_env() for i in range(num_envs)]\n",
        "envs = SubprocVecEnv(envs)\n",
        "\n",
        "env = gym.make(env_name)"
      ],
      "execution_count": 5,
      "outputs": []
    },
    {
      "cell_type": "markdown",
      "metadata": {
        "id": "9Vt4ODueLUW3"
      },
      "source": [
        "<h2>Neural Network</h2>"
      ]
    },
    {
      "cell_type": "code",
      "metadata": {
        "id": "G1j_Z3O3LUW3"
      },
      "source": [
        "def init_weights(m):\n",
        "    if isinstance(m, nn.Linear):\n",
        "        nn.init.normal_(m.weight, mean=0., std=0.1)\n",
        "        nn.init.constant_(m.bias, 0.1)\n",
        "        \n",
        "\n",
        "class ActorCritic(nn.Module):\n",
        "    def __init__(self, num_inputs, num_outputs, hidden_size, std=0.0):\n",
        "        super(ActorCritic, self).__init__()\n",
        "        \n",
        "        self.critic = nn.Sequential(\n",
        "            nn.Linear(num_inputs, hidden_size),\n",
        "            nn.ReLU(),\n",
        "            nn.Linear(hidden_size, 1)\n",
        "        )\n",
        "        \n",
        "        self.actor = nn.Sequential(\n",
        "            nn.Linear(num_inputs, hidden_size),\n",
        "            nn.ReLU(),\n",
        "            nn.Linear(hidden_size, num_outputs),\n",
        "        )\n",
        "        self.log_std = nn.Parameter(torch.ones(1, num_outputs) * std)\n",
        "        \n",
        "        self.apply(init_weights)\n",
        "        \n",
        "    def forward(self, x):\n",
        "        value = self.critic(x)\n",
        "        mu    = self.actor(x)\n",
        "        std   = self.log_std.exp().expand_as(mu)\n",
        "        dist  = Normal(mu, std)\n",
        "        return dist, value"
      ],
      "execution_count": 6,
      "outputs": []
    },
    {
      "cell_type": "code",
      "metadata": {
        "id": "mZXs_HY6LUW3"
      },
      "source": [
        "def plot(frame_idx, rewards):\n",
        "    clear_output(True)\n",
        "    plt.figure(figsize=(20,5))\n",
        "    plt.subplot(131)\n",
        "    plt.title('frame %s. reward: %s' % (frame_idx, rewards[-1]))\n",
        "    plt.plot(rewards)\n",
        "    plt.show()\n",
        "    \n",
        "def test_env(vis=False):\n",
        "    state = env.reset()\n",
        "    if vis: env.render()\n",
        "    done = False\n",
        "    total_reward = 0\n",
        "    while not done:\n",
        "        state = torch.FloatTensor(state).unsqueeze(0).to(device)\n",
        "        dist, _ = model(state)\n",
        "        next_state, reward, done, _ = env.step(dist.sample().cpu().numpy()[0])\n",
        "        state = next_state\n",
        "        if vis: env.render()\n",
        "        total_reward += reward\n",
        "    return total_reward"
      ],
      "execution_count": 7,
      "outputs": []
    },
    {
      "cell_type": "markdown",
      "metadata": {
        "id": "zEwDh2ZGLUW4"
      },
      "source": [
        "<h2>GAE</h2>"
      ]
    },
    {
      "cell_type": "code",
      "metadata": {
        "id": "yDEGeHD6LUW4"
      },
      "source": [
        "def compute_gae(next_value, rewards, masks, values, gamma=0.99, tau=0.95):\n",
        "    values = values + [next_value]\n",
        "    gae = 0\n",
        "    returns = []\n",
        "    for step in reversed(range(len(rewards))):\n",
        "        delta = rewards[step] + gamma * values[step + 1] * masks[step] - values[step]\n",
        "        gae = delta + gamma * tau * masks[step] * gae\n",
        "        returns.insert(0, gae + values[step])\n",
        "    return returns"
      ],
      "execution_count": 8,
      "outputs": []
    },
    {
      "cell_type": "markdown",
      "metadata": {
        "id": "ZFOVwofxLUW5"
      },
      "source": [
        "<h1> Proximal Policy Optimization Algorithm</h1>\n",
        "<h2><a href=\"https://arxiv.org/abs/1707.06347\">Arxiv</a></h2>"
      ]
    },
    {
      "cell_type": "code",
      "metadata": {
        "id": "rO9VDU-kLUW6"
      },
      "source": [
        "def ppo_iter(mini_batch_size, states, actions, log_probs, returns, advantage):\n",
        "    batch_size = states.size(0)\n",
        "    for _ in range(batch_size // mini_batch_size):\n",
        "        rand_ids = np.random.randint(0, batch_size, mini_batch_size)\n",
        "        yield states[rand_ids, :], actions[rand_ids, :], log_probs[rand_ids, :], returns[rand_ids, :], advantage[rand_ids, :]\n",
        "        \n",
        "        \n",
        "\n",
        "def ppo_update(ppo_epochs, mini_batch_size, states, actions, log_probs, returns, advantages, clip_param=0.2):\n",
        "    for _ in range(ppo_epochs):\n",
        "        for state, action, old_log_probs, return_, advantage in ppo_iter(mini_batch_size, states, actions, log_probs, returns, advantages):\n",
        "            dist, value = model(state)\n",
        "            entropy = dist.entropy().mean()\n",
        "            new_log_probs = dist.log_prob(action)\n",
        "\n",
        "            ratio = (new_log_probs - old_log_probs).exp()\n",
        "            surr1 = ratio * advantage\n",
        "            surr2 = torch.clamp(ratio, 1.0 - clip_param, 1.0 + clip_param) * advantage\n",
        "\n",
        "            actor_loss  = - torch.min(surr1, surr2).mean()\n",
        "            critic_loss = (return_ - value).pow(2).mean()\n",
        "\n",
        "            loss = 0.5 * critic_loss + actor_loss - 0.001 * entropy\n",
        "\n",
        "            optimizer.zero_grad()\n",
        "            loss.backward()\n",
        "            optimizer.step()"
      ],
      "execution_count": 9,
      "outputs": []
    },
    {
      "cell_type": "code",
      "metadata": {
        "id": "9XNfADArLUW7"
      },
      "source": [
        "num_inputs  = envs.observation_space.shape[0]\n",
        "num_outputs = envs.action_space.shape[0]\n",
        "\n",
        "#Hyper params:\n",
        "hidden_size      = 256\n",
        "lr               = 3e-4\n",
        "num_steps        = 20\n",
        "mini_batch_size  = 5\n",
        "ppo_epochs       = 4\n",
        "threshold_reward = -200\n",
        "\n",
        "model = ActorCritic(num_inputs, num_outputs, hidden_size).to(device)\n",
        "optimizer = optim.Adam(model.parameters(), lr=lr)"
      ],
      "execution_count": 10,
      "outputs": []
    },
    {
      "cell_type": "code",
      "metadata": {
        "id": "wE7Ly8vhLUW7"
      },
      "source": [
        "max_frames = 4000 #15000\n",
        "frame_idx  = 0\n",
        "test_rewards = []"
      ],
      "execution_count": 11,
      "outputs": []
    },
    {
      "cell_type": "code",
      "metadata": {
        "id": "FN55ZWVJLUW8",
        "outputId": "e22faf95-bc0a-4749-dcf4-8b9c57f99b3a",
        "colab": {
          "base_uri": "https://localhost:8080/",
          "height": 336
        }
      },
      "source": [
        "state = envs.reset()\n",
        "early_stop = False\n",
        "\n",
        "while frame_idx < max_frames and not early_stop:\n",
        "\n",
        "    log_probs = []\n",
        "    values    = []\n",
        "    states    = []\n",
        "    actions   = []\n",
        "    rewards   = []\n",
        "    masks     = []\n",
        "    entropy = 0\n",
        "\n",
        "    for _ in range(num_steps):\n",
        "        state = torch.FloatTensor(state).to(device)\n",
        "        dist, value = model(state)\n",
        "\n",
        "        action = dist.sample()\n",
        "        next_state, reward, done, _ = envs.step(action.cpu().numpy())\n",
        "\n",
        "        log_prob = dist.log_prob(action)\n",
        "        entropy += dist.entropy().mean()\n",
        "        \n",
        "        log_probs.append(log_prob)\n",
        "        values.append(value)\n",
        "        rewards.append(torch.FloatTensor(reward).unsqueeze(1).to(device))\n",
        "        masks.append(torch.FloatTensor(1 - done).unsqueeze(1).to(device))\n",
        "        \n",
        "        states.append(state)\n",
        "        actions.append(action)\n",
        "        \n",
        "        state = next_state\n",
        "        frame_idx += 1\n",
        "        \n",
        "        if frame_idx % 1000 == 0:\n",
        "            test_reward = np.mean([test_env() for _ in range(10)])\n",
        "            test_rewards.append(test_reward)\n",
        "            plot(frame_idx, test_rewards)\n",
        "            if test_reward > threshold_reward: early_stop = True\n",
        "            \n",
        "\n",
        "    next_state = torch.FloatTensor(next_state).to(device)\n",
        "    _, next_value = model(next_state)\n",
        "    returns = compute_gae(next_value, rewards, masks, values)\n",
        "\n",
        "    returns   = torch.cat(returns).detach()\n",
        "    log_probs = torch.cat(log_probs).detach()\n",
        "    values    = torch.cat(values).detach()\n",
        "    states    = torch.cat(states)\n",
        "    actions   = torch.cat(actions)\n",
        "    advantage = returns - values\n",
        "    \n",
        "    ppo_update(ppo_epochs, mini_batch_size, states, actions, log_probs, returns, advantage)"
      ],
      "execution_count": 12,
      "outputs": [
        {
          "output_type": "display_data",
          "data": {
            "image/png": "[encoded data removed]",
            "text/plain": [
              "<Figure size 1440x360 with 1 Axes>"
            ]
          },
          "metadata": {
            "tags": [],
            "needs_background": "light"
          }
        }
      ]
    },
    {
      "cell_type": "markdown",
      "metadata": {
        "id": "J_7m5N3iLUW_"
      },
      "source": [
        "<h1>Saving trajectories for GAIL</h1>"
      ]
    },
    {
      "cell_type": "code",
      "metadata": {
        "id": "M7IXR4DLLUXA",
        "outputId": "9aa2522e-6b67-4e31-c4cf-f34c8d5b85c2",
        "colab": {
          "base_uri": "https://localhost:8080/"
        }
      },
      "source": [
        "from itertools import count\n",
        "\n",
        "max_expert_num = 50000\n",
        "num_steps = 0\n",
        "expert_traj = []\n",
        "\n",
        "for i_episode in count():\n",
        "    state = env.reset()\n",
        "    done = False\n",
        "    total_reward = 0\n",
        "    \n",
        "    while not done:\n",
        "        state = torch.FloatTensor(state).unsqueeze(0).to(device)\n",
        "        dist, _ = model(state)\n",
        "        action = dist.sample().cpu().numpy()[0]\n",
        "        next_state, reward, done, _ = env.step(action)\n",
        "        state = next_state\n",
        "        total_reward += reward\n",
        "        expert_traj.append(np.hstack([state, action]))\n",
        "        num_steps += 1\n",
        "    \n",
        "    print(\"episode:\", i_episode, \"reward:\", total_reward)\n",
        "    \n",
        "    if num_steps >= max_expert_num:\n",
        "        break\n",
        "        \n",
        "expert_traj = np.stack(expert_traj)\n",
        "print()\n",
        "print(expert_traj.shape)\n",
        "print()\n",
        "np.save(\"expert_traj.npy\", expert_traj)"
      ],
      "execution_count": 13,
      "outputs": [
        {
          "output_type": "stream",
          "text": [
            "episode: 0 reward: -1112.960701221157\n",
            "episode: 1 reward: -1099.294586624267\n",
            "episode: 2 reward: -1072.3373977836793\n",
            "episode: 3 reward: -1050.8183438912797\n",
            "episode: 4 reward: -776.7683648068127\n",
            "episode: 5 reward: -862.731100080095\n",
            "episode: 6 reward: -944.7533694225656\n",
            "episode: 7 reward: -808.382836419688\n",
            "episode: 8 reward: -747.32844265883\n",
            "episode: 9 reward: -1057.0305006092685\n",
            "episode: 10 reward: -965.6968636810801\n",
            "episode: 11 reward: -1025.8448809037295\n",
            "episode: 12 reward: -892.4005513182923\n",
            "episode: 13 reward: -1209.8643579567552\n",
            "episode: 14 reward: -864.4912306741742\n",
            "episode: 15 reward: -1021.2137389358027\n",
            "episode: 16 reward: -963.2342300872597\n",
            "episode: 17 reward: -869.6196329870959\n",
            "episode: 18 reward: -972.2461765410835\n",
            "episode: 19 reward: -1016.9849153215393\n",
            "episode: 20 reward: -1196.314071950579\n",
            "episode: 21 reward: -1029.715352273832\n",
            "episode: 22 reward: -1063.0013763595127\n",
            "episode: 23 reward: -976.3640974600534\n",
            "episode: 24 reward: -1484.776722920955\n",
            "episode: 25 reward: -952.6895556748916\n",
            "episode: 26 reward: -1166.142729589362\n",
            "episode: 27 reward: -786.6850127402629\n",
            "episode: 28 reward: -1092.7410242011822\n",
            "episode: 29 reward: -956.4460207800925\n",
            "episode: 30 reward: -1060.7233136374734\n",
            "episode: 31 reward: -865.9011942155278\n",
            "episode: 32 reward: -1113.198839664843\n",
            "episode: 33 reward: -984.4070195697975\n",
            "episode: 34 reward: -875.088408543495\n",
            "episode: 35 reward: -868.6175853177965\n",
            "episode: 36 reward: -1074.5486997284042\n",
            "episode: 37 reward: -858.5360095365879\n",
            "episode: 38 reward: -969.3218971833567\n",
            "episode: 39 reward: -874.4983901934181\n",
            "episode: 40 reward: -929.8864078434534\n",
            "episode: 41 reward: -1157.1078338880125\n",
            "episode: 42 reward: -862.6263023508938\n",
            "episode: 43 reward: -1234.2790851016446\n",
            "episode: 44 reward: -1072.605379264547\n",
            "episode: 45 reward: -992.3234005169695\n",
            "episode: 46 reward: -1171.2226402812826\n",
            "episode: 47 reward: -743.0810796660993\n",
            "episode: 48 reward: -969.7334515667931\n",
            "episode: 49 reward: -1021.0636818259945\n",
            "episode: 50 reward: -1024.019645568928\n",
            "episode: 51 reward: -988.2230408283248\n",
            "episode: 52 reward: -874.6602682910292\n",
            "episode: 53 reward: -1140.4433172987458\n",
            "episode: 54 reward: -1025.064563906936\n",
            "episode: 55 reward: -869.3854832783611\n",
            "episode: 56 reward: -882.3299458178946\n",
            "episode: 57 reward: -1035.187272737835\n",
            "episode: 58 reward: -1075.925962939595\n",
            "episode: 59 reward: -1002.5974669995833\n",
            "episode: 60 reward: -1239.7635700167023\n",
            "episode: 61 reward: -768.7215787477003\n",
            "episode: 62 reward: -952.4052577046882\n",
            "episode: 63 reward: -994.9422302971906\n",
            "episode: 64 reward: -907.1988823458485\n",
            "episode: 65 reward: -1099.2642486663615\n",
            "episode: 66 reward: -993.9120707596975\n",
            "episode: 67 reward: -1282.8575080404778\n",
            "episode: 68 reward: -1092.1530359567075\n",
            "episode: 69 reward: -1163.320696353574\n",
            "episode: 70 reward: -1176.0215390963237\n",
            "episode: 71 reward: -892.4568760853264\n",
            "episode: 72 reward: -875.6094567496283\n",
            "episode: 73 reward: -1057.2273595787863\n",
            "episode: 74 reward: -893.8935273666932\n",
            "episode: 75 reward: -862.8701820261308\n",
            "episode: 76 reward: -1259.6030109000537\n",
            "episode: 77 reward: -1002.6021216115445\n",
            "episode: 78 reward: -962.4879780339518\n",
            "episode: 79 reward: -1152.4931669682867\n",
            "episode: 80 reward: -750.1356723761927\n",
            "episode: 81 reward: -1066.8358124204963\n",
            "episode: 82 reward: -888.2940991709886\n",
            "episode: 83 reward: -870.9819783027958\n",
            "episode: 84 reward: -864.1282179800352\n",
            "episode: 85 reward: -1063.6411774316155\n",
            "episode: 86 reward: -1010.1798702915897\n",
            "episode: 87 reward: -865.8135782777692\n",
            "episode: 88 reward: -1284.177680263042\n",
            "episode: 89 reward: -877.1655819619426\n",
            "episode: 90 reward: -871.6230381512228\n",
            "episode: 91 reward: -1062.1358342134301\n",
            "episode: 92 reward: -990.9749577777643\n",
            "episode: 93 reward: -975.5432387797878\n",
            "episode: 94 reward: -1007.7323962790014\n",
            "episode: 95 reward: -1084.076046366689\n",
            "episode: 96 reward: -988.1874985673202\n",
            "episode: 97 reward: -756.9932419746376\n",
            "episode: 98 reward: -885.2651617738368\n",
            "episode: 99 reward: -962.7813889761052\n",
            "episode: 100 reward: -1133.8949589605481\n",
            "episode: 101 reward: -859.9030246281075\n",
            "episode: 102 reward: -683.3052732937592\n",
            "episode: 103 reward: -978.0765452190423\n",
            "episode: 104 reward: -1301.0954516355473\n",
            "episode: 105 reward: -967.8117120795574\n",
            "episode: 106 reward: -1143.054760382335\n",
            "episode: 107 reward: -1141.554571028155\n",
            "episode: 108 reward: -1192.2382899787744\n",
            "episode: 109 reward: -1242.6411744672137\n",
            "episode: 110 reward: -830.397449991727\n",
            "episode: 111 reward: -1058.5308592605902\n",
            "episode: 112 reward: -1190.459225754924\n",
            "episode: 113 reward: -1071.9233764813948\n",
            "episode: 114 reward: -762.2347417193553\n",
            "episode: 115 reward: -1061.417121191303\n",
            "episode: 116 reward: -882.7158569031656\n",
            "episode: 117 reward: -1169.4017471012437\n",
            "episode: 118 reward: -985.9566359624249\n",
            "episode: 119 reward: -869.1284205726373\n",
            "episode: 120 reward: -740.9699278495137\n",
            "episode: 121 reward: -1143.4206996536866\n",
            "episode: 122 reward: -853.2182553643619\n",
            "episode: 123 reward: -909.0482964393402\n",
            "episode: 124 reward: -1198.2423114950836\n",
            "episode: 125 reward: -1088.445493783775\n",
            "episode: 126 reward: -961.5534498119666\n",
            "episode: 127 reward: -768.8063561943899\n",
            "episode: 128 reward: -1336.4324110370308\n",
            "episode: 129 reward: -1050.902377043294\n",
            "episode: 130 reward: -883.1329413960592\n",
            "episode: 131 reward: -1296.2253016754983\n",
            "episode: 132 reward: -951.5675924817614\n",
            "episode: 133 reward: -891.6428453501103\n",
            "episode: 134 reward: -1147.3495995042574\n",
            "episode: 135 reward: -1041.3936833455073\n",
            "episode: 136 reward: -971.9940600977034\n",
            "episode: 137 reward: -1011.9346145696236\n",
            "episode: 138 reward: -845.0052240369313\n",
            "episode: 139 reward: -1050.044964923321\n",
            "episode: 140 reward: -1154.9042034356892\n",
            "episode: 141 reward: -967.5080617549339\n",
            "episode: 142 reward: -1002.5350407113975\n",
            "episode: 143 reward: -889.7884932428674\n",
            "episode: 144 reward: -965.9303614337923\n",
            "episode: 145 reward: -995.3676545779396\n",
            "episode: 146 reward: -1080.429852048818\n",
            "episode: 147 reward: -1167.1587824024648\n",
            "episode: 148 reward: -1087.0684395027222\n",
            "episode: 149 reward: -1347.8921394975441\n",
            "episode: 150 reward: -903.7271855361457\n",
            "episode: 151 reward: -852.027785609695\n",
            "episode: 152 reward: -942.0203181897894\n",
            "episode: 153 reward: -873.0809195013885\n",
            "episode: 154 reward: -879.1938258596233\n",
            "episode: 155 reward: -986.031670376717\n",
            "episode: 156 reward: -880.1223933562337\n",
            "episode: 157 reward: -866.2872490593282\n",
            "episode: 158 reward: -969.4309429513679\n",
            "episode: 159 reward: -1068.7006556311464\n",
            "episode: 160 reward: -994.7123650850053\n",
            "episode: 161 reward: -864.4465868527385\n",
            "episode: 162 reward: -1179.7187150521431\n",
            "episode: 163 reward: -1028.7213307546806\n",
            "episode: 164 reward: -889.7254676145908\n",
            "episode: 165 reward: -970.5902159802266\n",
            "episode: 166 reward: -953.3643824994372\n",
            "episode: 167 reward: -1049.649689981723\n",
            "episode: 168 reward: -776.1453398368398\n",
            "episode: 169 reward: -869.5838537302716\n",
            "episode: 170 reward: -904.2604071551576\n",
            "episode: 171 reward: -1017.7795640537058\n",
            "episode: 172 reward: -1028.2451253793636\n",
            "episode: 173 reward: -991.4001342491399\n",
            "episode: 174 reward: -1161.2391645973075\n",
            "episode: 175 reward: -998.7546816657236\n",
            "episode: 176 reward: -874.0920276901337\n",
            "episode: 177 reward: -907.0700172117208\n",
            "episode: 178 reward: -857.8291167659783\n",
            "episode: 179 reward: -986.5875924629197\n",
            "episode: 180 reward: -748.7666836116998\n",
            "episode: 181 reward: -1169.6446579499334\n",
            "episode: 182 reward: -890.5923742260427\n",
            "episode: 183 reward: -1088.9792209933516\n",
            "episode: 184 reward: -1149.8652122111607\n",
            "episode: 185 reward: -908.3941654441601\n",
            "episode: 186 reward: -1154.425601676496\n",
            "episode: 187 reward: -1182.1972705929265\n",
            "episode: 188 reward: -853.0175816134587\n",
            "episode: 189 reward: -883.8712597595699\n",
            "episode: 190 reward: -1303.1330322744138\n",
            "episode: 191 reward: -1052.2433921975685\n",
            "episode: 192 reward: -837.4014526068804\n",
            "episode: 193 reward: -1010.4643898289233\n",
            "episode: 194 reward: -1303.6131793121153\n",
            "episode: 195 reward: -1162.0435686138935\n",
            "episode: 196 reward: -1044.4306181194431\n",
            "episode: 197 reward: -1175.985522852221\n",
            "episode: 198 reward: -985.8845817606489\n",
            "episode: 199 reward: -1087.4435994747573\n",
            "episode: 200 reward: -1015.205324581346\n",
            "episode: 201 reward: -1249.724637908618\n",
            "episode: 202 reward: -983.100164410119\n",
            "episode: 203 reward: -975.589689649126\n",
            "episode: 204 reward: -901.8937794133797\n",
            "episode: 205 reward: -1148.8382439500595\n",
            "episode: 206 reward: -1188.2936153314786\n",
            "episode: 207 reward: -856.6683383523165\n",
            "episode: 208 reward: -989.6447333139565\n",
            "episode: 209 reward: -1172.681075310866\n",
            "episode: 210 reward: -1141.245496342499\n",
            "episode: 211 reward: -1137.5277132309727\n",
            "episode: 212 reward: -988.7580335095519\n",
            "episode: 213 reward: -1059.4559168676549\n",
            "episode: 214 reward: -863.7701706537382\n",
            "episode: 215 reward: -874.8647152860806\n",
            "episode: 216 reward: -1056.7616692552895\n",
            "episode: 217 reward: -1122.611454891744\n",
            "episode: 218 reward: -786.2179188804059\n",
            "episode: 219 reward: -1270.533631893492\n",
            "episode: 220 reward: -983.7599329486516\n",
            "episode: 221 reward: -1172.728930933134\n",
            "episode: 222 reward: -844.1661047006761\n",
            "episode: 223 reward: -855.5645613947585\n",
            "episode: 224 reward: -1248.7046474093286\n",
            "episode: 225 reward: -866.2833929056719\n",
            "episode: 226 reward: -887.2080021956762\n",
            "episode: 227 reward: -844.5512064325644\n",
            "episode: 228 reward: -1078.4943329689247\n",
            "episode: 229 reward: -995.0075210030568\n",
            "episode: 230 reward: -942.0860459832371\n",
            "episode: 231 reward: -1286.9524127920038\n",
            "episode: 232 reward: -972.021766251373\n",
            "episode: 233 reward: -881.9073017384072\n",
            "episode: 234 reward: -1063.6062077679128\n",
            "episode: 235 reward: -947.0125307876119\n",
            "episode: 236 reward: -872.0328003931703\n",
            "episode: 237 reward: -982.2262258301141\n",
            "episode: 238 reward: -980.9380546686378\n",
            "episode: 239 reward: -983.1869382743004\n",
            "episode: 240 reward: -971.3745420679231\n",
            "episode: 241 reward: -922.9477218357774\n",
            "episode: 242 reward: -1144.4507773132432\n",
            "episode: 243 reward: -867.2861179125962\n",
            "episode: 244 reward: -980.5450675427016\n",
            "episode: 245 reward: -958.6798228078682\n",
            "episode: 246 reward: -901.3963713927465\n",
            "episode: 247 reward: -940.9960723263631\n",
            "episode: 248 reward: -1079.3079056231456\n",
            "episode: 249 reward: -1286.8977545837004\n",
            "\n",
            "(50000, 4)\n",
            "\n"
          ],
          "name": "stdout"
        }
      ]
    }
  ]
}