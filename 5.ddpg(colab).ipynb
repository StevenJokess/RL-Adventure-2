{
  "nbformat": 4,
  "nbformat_minor": 0,
  "metadata": {
    "kernelspec": {
      "display_name": "Python [conda env:pytorch4]",
      "language": "python",
      "name": "conda-env-pytorch4-py"
    },
    "language_info": {
      "codemirror_mode": {
        "name": "ipython",
        "version": 3
      },
      "file_extension": ".py",
      "mimetype": "text/x-python",
      "name": "python",
      "nbconvert_exporter": "python",
      "pygments_lexer": "ipython3",
      "version": "3.5.5"
    },
    "colab": {
      "name": "5.ddpg.ipynb",
      "provenance": []
    },
    "accelerator": "GPU"
  },
  "cells": [
    {
      "cell_type": "code",
      "metadata": {
        "id": "iNCRSNbpQmNu",
        "outputId": "ba1c130f-7407-4faa-ab8c-0e65c2939ad3",
        "colab": {
          "base_uri": "https://localhost:8080/"
        }
      },
      "source": [
        "!pip install git+https://github.com/StevenJokess/RL-Adventure-2\r\n",
        "!pip install git+https://github.com/openai/gym # core.py in action(self, action) NotImplementedError: \r\n",
        "!git clone https://github.com/StevenJokess/RL-Adventure-2\r\n",
        "%cd RL-Adventure-2\r\n",
        "!ls"
      ],
      "execution_count": 1,
      "outputs": [
        {
          "output_type": "stream",
          "text": [
            "Collecting git+https://github.com/StevenJokess/RL-Adventure-2\n",
            "  Cloning https://github.com/StevenJokess/RL-Adventure-2 to /tmp/pip-req-build-ni26oz5q\n",
            "  Running command git clone -q https://github.com/StevenJokess/RL-Adventure-2 /tmp/pip-req-build-ni26oz5q\n",
            "\u001b[31mERROR: Command errored out with exit status 1: python setup.py egg_info Check the logs for full command output.\u001b[0m\n",
            "Collecting git+https://github.com/openai/gym\n",
            "  Cloning https://github.com/openai/gym to /tmp/pip-req-build-297_1slv\n",
            "  Running command git clone -q https://github.com/openai/gym /tmp/pip-req-build-297_1slv\n",
            "Requirement already satisfied (use --upgrade to upgrade): gym==0.18.0 from git+https://github.com/openai/gym in /usr/local/lib/python3.6/dist-packages\n",
            "Requirement already satisfied: scipy in /usr/local/lib/python3.6/dist-packages (from gym==0.18.0) (1.4.1)\n",
            "Requirement already satisfied: numpy>=1.10.4 in /usr/local/lib/python3.6/dist-packages (from gym==0.18.0) (1.19.4)\n",
            "Requirement already satisfied: pyglet<=1.5.0,>=1.4.0 in /usr/local/lib/python3.6/dist-packages (from gym==0.18.0) (1.5.0)\n",
            "Requirement already satisfied: Pillow<=7.2.0 in /usr/local/lib/python3.6/dist-packages (from gym==0.18.0) (7.0.0)\n",
            "Requirement already satisfied: cloudpickle<1.7.0,>=1.2.0 in /usr/local/lib/python3.6/dist-packages (from gym==0.18.0) (1.3.0)\n",
            "Requirement already satisfied: future in /usr/local/lib/python3.6/dist-packages (from pyglet<=1.5.0,>=1.4.0->gym==0.18.0) (0.16.0)\n",
            "Building wheels for collected packages: gym\n",
            "  Building wheel for gym (setup.py) ... \u001b[?25l\u001b[?25hdone\n",
            "  Created wheel for gym: filename=gym-0.18.0-cp36-none-any.whl size=1657515 sha256=874f5b08add2abd80a7b8a6c81bda62315119eb2cf4c15ac1ebede94f77be786\n",
            "  Stored in directory: /tmp/pip-ephem-wheel-cache-7kx861vh/wheels/d5/72/8b/930cb346bdca1819ddcfc8f0325276ea09c92c3005f6c51a54\n",
            "Successfully built gym\n",
            "fatal: destination path 'RL-Adventure-2' already exists and is not an empty directory.\n",
            "/content/RL-Adventure-2\n",
            "'1.actor-critic(colab).ipynb'   5.ddpg.ipynb\n",
            " 1.actor-critic.ipynb\t        6.td3.ipynb\n",
            "'2.gae(colab).ipynb'\t       '7.soft actor-critic.ipynb'\n",
            " 2.gae.ipynb\t\t        8.gail.ipynb\n",
            "'3.ppo(colab).ipynb'\t        9.her.ipynb\n",
            " 3.ppo.ipynb\t\t        common\n",
            "'4.acer(colab).ipynb'\t        README.md\n",
            " 4.acer.ipynb\n"
          ],
          "name": "stdout"
        }
      ]
    },
    {
      "cell_type": "code",
      "metadata": {
        "id": "j2Ii0XJEQkbp"
      },
      "source": [
        "import math\n",
        "import random\n",
        "\n",
        "import gym\n",
        "import numpy as np\n",
        "\n",
        "import torch\n",
        "import torch.nn as nn\n",
        "import torch.optim as optim\n",
        "import torch.nn.functional as F\n",
        "from torch.distributions import Normal"
      ],
      "execution_count": 2,
      "outputs": []
    },
    {
      "cell_type": "code",
      "metadata": {
        "id": "FQyEtePlQkb0"
      },
      "source": [
        "from IPython.display import clear_output\n",
        "import matplotlib.pyplot as plt\n",
        "%matplotlib inline"
      ],
      "execution_count": 3,
      "outputs": []
    },
    {
      "cell_type": "markdown",
      "metadata": {
        "id": "sX1DeziSQkb1"
      },
      "source": [
        "<h2>Use CUDA</h2>"
      ]
    },
    {
      "cell_type": "code",
      "metadata": {
        "id": "oJ7ndhbnQkb1"
      },
      "source": [
        "use_cuda = torch.cuda.is_available()\n",
        "device   = torch.device(\"cuda\" if use_cuda else \"cpu\")"
      ],
      "execution_count": 4,
      "outputs": []
    },
    {
      "cell_type": "markdown",
      "metadata": {
        "id": "8JaDll0-Qkb2"
      },
      "source": [
        "<h2>Replay Buffer</h2>"
      ]
    },
    {
      "cell_type": "code",
      "metadata": {
        "id": "Z7otl_x4Qkb2"
      },
      "source": [
        "class ReplayBuffer:\n",
        "    def __init__(self, capacity):\n",
        "        self.capacity = capacity\n",
        "        self.buffer = []\n",
        "        self.position = 0\n",
        "    \n",
        "    def push(self, state, action, reward, next_state, done):\n",
        "        if len(self.buffer) < self.capacity:\n",
        "            self.buffer.append(None)\n",
        "        self.buffer[self.position] = (state, action, reward, next_state, done)\n",
        "        self.position = (self.position + 1) % self.capacity\n",
        "    \n",
        "    def sample(self, batch_size):\n",
        "        batch = random.sample(self.buffer, batch_size)\n",
        "        state, action, reward, next_state, done = map(np.stack, zip(*batch))\n",
        "        return state, action, reward, next_state, done\n",
        "    \n",
        "    def __len__(self):\n",
        "        return len(self.buffer)"
      ],
      "execution_count": 5,
      "outputs": []
    },
    {
      "cell_type": "markdown",
      "metadata": {
        "id": "achG07YNQkb2"
      },
      "source": [
        "<h2>Normalize action space</h2>"
      ]
    },
    {
      "cell_type": "code",
      "metadata": {
        "id": "cqIvpf7lQkb3"
      },
      "source": [
        "class NormalizedActions(gym.ActionWrapper):\n",
        "\n",
        "    def _action(self, action):\n",
        "        low_bound   = self.action_space.low\n",
        "        upper_bound = self.action_space.high\n",
        "        \n",
        "        action = low_bound + (action + 1.0) * 0.5 * (upper_bound - low_bound)\n",
        "        action = np.clip(action, low_bound, upper_bound)\n",
        "        \n",
        "        return action\n",
        "\n",
        "    def _reverse_action(self, action):\n",
        "        low_bound   = self.action_space.low\n",
        "        upper_bound = self.action_space.high\n",
        "        \n",
        "        action = 2 * (action - low_bound) / (upper_bound - low_bound) - 1\n",
        "        action = np.clip(action, low_bound, upper_bound)\n",
        "        \n",
        "        return actions"
      ],
      "execution_count": 6,
      "outputs": []
    },
    {
      "cell_type": "markdown",
      "metadata": {
        "id": "ZOcwS0ETQkb3"
      },
      "source": [
        "<h2>Ornstein-Uhlenbeck process</h2>\n",
        "Adding time-correlated noise to the actions taken by the deterministic policy<br>\n",
        "<a href=\"https://en.wikipedia.org/wiki/Ornstein%E2%80%93Uhlenbeck_process\">wiki</a>"
      ]
    },
    {
      "cell_type": "code",
      "metadata": {
        "id": "NkTFolAHQkb4"
      },
      "source": [
        "class OUNoise(object):\n",
        "    def __init__(self, action_space, mu=0.0, theta=0.15, max_sigma=0.3, min_sigma=0.3, decay_period=100000):\n",
        "        self.mu           = mu\n",
        "        self.theta        = theta\n",
        "        self.sigma        = max_sigma\n",
        "        self.max_sigma    = max_sigma\n",
        "        self.min_sigma    = min_sigma\n",
        "        self.decay_period = decay_period\n",
        "        self.action_dim   = action_space.shape[0]\n",
        "        self.low          = action_space.low\n",
        "        self.high         = action_space.high\n",
        "        self.reset()\n",
        "        \n",
        "    def reset(self):\n",
        "        self.state = np.ones(self.action_dim) * self.mu\n",
        "        \n",
        "    def evolve_state(self):\n",
        "        x  = self.state\n",
        "        dx = self.theta * (self.mu - x) + self.sigma * np.random.randn(self.action_dim)\n",
        "        self.state = x + dx\n",
        "        return self.state\n",
        "    \n",
        "    def get_action(self, action, t=0):\n",
        "        ou_state = self.evolve_state()\n",
        "        self.sigma = self.max_sigma - (self.max_sigma - self.min_sigma) * min(1.0, t / self.decay_period)\n",
        "        return np.clip(action + ou_state, self.low, self.high)\n",
        "    \n",
        "#https://github.com/vitchyr/rlkit/blob/master/rlkit/exploration_strategies/ou_strategy.py"
      ],
      "execution_count": 7,
      "outputs": []
    },
    {
      "cell_type": "code",
      "metadata": {
        "id": "l3gmJz8xQkb5"
      },
      "source": [
        "def plot(frame_idx, rewards):\n",
        "    clear_output(True)\n",
        "    plt.figure(figsize=(20,5))\n",
        "    plt.subplot(131)\n",
        "    plt.title('frame %s. reward: %s' % (frame_idx, rewards[-1]))\n",
        "    plt.plot(rewards)\n",
        "    plt.show()"
      ],
      "execution_count": 8,
      "outputs": []
    },
    {
      "cell_type": "markdown",
      "metadata": {
        "id": "ckmuSu-MQkb5"
      },
      "source": [
        "<h1> Continuous control with deep reinforcement learning</h1>\n",
        "<h2><a href=\"https://arxiv.org/abs/1509.02971\">Arxiv</a></h2>"
      ]
    },
    {
      "cell_type": "code",
      "metadata": {
        "id": "3hwP2a3QQkb5"
      },
      "source": [
        "class ValueNetwork(nn.Module):\n",
        "    def __init__(self, num_inputs, num_actions, hidden_size, init_w=3e-3):\n",
        "        super(ValueNetwork, self).__init__()\n",
        "        \n",
        "        self.linear1 = nn.Linear(num_inputs + num_actions, hidden_size)\n",
        "        self.linear2 = nn.Linear(hidden_size, hidden_size)\n",
        "        self.linear3 = nn.Linear(hidden_size, 1)\n",
        "        \n",
        "        self.linear3.weight.data.uniform_(-init_w, init_w)\n",
        "        self.linear3.bias.data.uniform_(-init_w, init_w)\n",
        "        \n",
        "    def forward(self, state, action):\n",
        "        x = torch.cat([state, action], 1)\n",
        "        x = F.relu(self.linear1(x))\n",
        "        x = F.relu(self.linear2(x))\n",
        "        x = self.linear3(x)\n",
        "        return x\n",
        "    \n",
        "\n",
        "class PolicyNetwork(nn.Module):\n",
        "    def __init__(self, num_inputs, num_actions, hidden_size, init_w=3e-3):\n",
        "        super(PolicyNetwork, self).__init__()\n",
        "        \n",
        "        self.linear1 = nn.Linear(num_inputs, hidden_size)\n",
        "        self.linear2 = nn.Linear(hidden_size, hidden_size)\n",
        "        self.linear3 = nn.Linear(hidden_size, num_actions)\n",
        "        \n",
        "        self.linear3.weight.data.uniform_(-init_w, init_w)\n",
        "        self.linear3.bias.data.uniform_(-init_w, init_w)\n",
        "        \n",
        "    def forward(self, state):\n",
        "        x = F.relu(self.linear1(state))\n",
        "        x = F.relu(self.linear2(x))\n",
        "        x = F.tanh(self.linear3(x))\n",
        "        return x\n",
        "    \n",
        "    def get_action(self, state):\n",
        "        state  = torch.FloatTensor(state).unsqueeze(0).to(device)\n",
        "        action = self.forward(state)\n",
        "        return action.detach().cpu().numpy()[0, 0]"
      ],
      "execution_count": 9,
      "outputs": []
    },
    {
      "cell_type": "markdown",
      "metadata": {
        "id": "BCSR6XgUQkb6"
      },
      "source": [
        "<h2>DDPG Update</h2>"
      ]
    },
    {
      "cell_type": "code",
      "metadata": {
        "id": "jSeKOVFsQkb6"
      },
      "source": [
        "def ddpg_update(batch_size, \n",
        "           gamma = 0.99,\n",
        "           min_value=-np.inf,\n",
        "           max_value=np.inf,\n",
        "           soft_tau=1e-2):\n",
        "    \n",
        "    state, action, reward, next_state, done = replay_buffer.sample(batch_size)\n",
        "    \n",
        "    state      = torch.FloatTensor(state).to(device)\n",
        "    next_state = torch.FloatTensor(next_state).to(device)\n",
        "    action     = torch.FloatTensor(action).to(device)\n",
        "    reward     = torch.FloatTensor(reward).unsqueeze(1).to(device)\n",
        "    done       = torch.FloatTensor(np.float32(done)).unsqueeze(1).to(device)\n",
        "\n",
        "    policy_loss = value_net(state, policy_net(state))\n",
        "    policy_loss = -policy_loss.mean()\n",
        "\n",
        "    next_action    = target_policy_net(next_state)\n",
        "    target_value   = target_value_net(next_state, next_action.detach())\n",
        "    expected_value = reward + (1.0 - done) * gamma * target_value\n",
        "    expected_value = torch.clamp(expected_value, min_value, max_value)\n",
        "\n",
        "    value = value_net(state, action)\n",
        "    value_loss = value_criterion(value, expected_value.detach())\n",
        "\n",
        "\n",
        "    policy_optimizer.zero_grad()\n",
        "    policy_loss.backward()\n",
        "    policy_optimizer.step()\n",
        "\n",
        "    value_optimizer.zero_grad()\n",
        "    value_loss.backward()\n",
        "    value_optimizer.step()\n",
        "\n",
        "    for target_param, param in zip(target_value_net.parameters(), value_net.parameters()):\n",
        "            target_param.data.copy_(\n",
        "                target_param.data * (1.0 - soft_tau) + param.data * soft_tau\n",
        "            )\n",
        "\n",
        "    for target_param, param in zip(target_policy_net.parameters(), policy_net.parameters()):\n",
        "            target_param.data.copy_(\n",
        "                target_param.data * (1.0 - soft_tau) + param.data * soft_tau\n",
        "            )"
      ],
      "execution_count": 10,
      "outputs": []
    },
    {
      "cell_type": "code",
      "metadata": {
        "id": "1szmykWBQkb7"
      },
      "source": [
        "env = NormalizedActions(gym.make(\"Pendulum-v0\"))\n",
        "ou_noise = OUNoise(env.action_space)\n",
        "\n",
        "state_dim  = env.observation_space.shape[0]\n",
        "action_dim = env.action_space.shape[0]\n",
        "hidden_dim = 256\n",
        "\n",
        "value_net  = ValueNetwork(state_dim, action_dim, hidden_dim).to(device)\n",
        "policy_net = PolicyNetwork(state_dim, action_dim, hidden_dim).to(device)\n",
        "\n",
        "target_value_net  = ValueNetwork(state_dim, action_dim, hidden_dim).to(device)\n",
        "target_policy_net = PolicyNetwork(state_dim, action_dim, hidden_dim).to(device)\n",
        "\n",
        "for target_param, param in zip(target_value_net.parameters(), value_net.parameters()):\n",
        "    target_param.data.copy_(param.data)\n",
        "\n",
        "for target_param, param in zip(target_policy_net.parameters(), policy_net.parameters()):\n",
        "    target_param.data.copy_(param.data)\n",
        "    \n",
        "    \n",
        "value_lr  = 1e-3\n",
        "policy_lr = 1e-4\n",
        "\n",
        "value_optimizer  = optim.Adam(value_net.parameters(),  lr=value_lr)\n",
        "policy_optimizer = optim.Adam(policy_net.parameters(), lr=policy_lr)\n",
        "\n",
        "value_criterion = nn.MSELoss()\n",
        "\n",
        "replay_buffer_size = 1000000\n",
        "replay_buffer = ReplayBuffer(replay_buffer_size)"
      ],
      "execution_count": 11,
      "outputs": []
    },
    {
      "cell_type": "code",
      "metadata": {
        "id": "VSpFhHaXQkb9"
      },
      "source": [
        "max_frames  = 12000\n",
        "max_steps   = 500\n",
        "frame_idx   = 0\n",
        "rewards     = []\n",
        "batch_size  = 128"
      ],
      "execution_count": 12,
      "outputs": []
    },
    {
      "cell_type": "code",
      "metadata": {
        "id": "Pt7UEI7KQkb9",
        "outputId": "6c3b32b0-75d7-4a56-9a86-1248f3414532",
        "colab": {
          "base_uri": "https://localhost:8080/",
          "height": 537
        }
      },
      "source": [
        "while frame_idx < max_frames:\n",
        "    state = env.reset()\n",
        "    ou_noise.reset()\n",
        "    episode_reward = 0\n",
        "    \n",
        "    for step in range(max_steps):\n",
        "        action = policy_net.get_action(state)\n",
        "        action = ou_noise.get_action(action, step)\n",
        "        next_state, reward, done, _ = env.step(action)\n",
        "        \n",
        "        replay_buffer.push(state, action, reward, next_state, done)\n",
        "        if len(replay_buffer) > batch_size:\n",
        "            ddpg_update(batch_size)\n",
        "        \n",
        "        state = next_state\n",
        "        episode_reward += reward\n",
        "        frame_idx += 1\n",
        "        \n",
        "        if frame_idx % max(1000, max_steps + 1) == 0:\n",
        "            plot(frame_idx, rewards)\n",
        "        \n",
        "        if done:\n",
        "            break\n",
        "    \n",
        "    rewards.append(episode_reward)"
      ],
      "execution_count": 13,
      "outputs": [
        {
          "output_type": "stream",
          "text": [
            "/usr/local/lib/python3.6/dist-packages/torch/nn/functional.py:1628: UserWarning: nn.functional.tanh is deprecated. Use torch.tanh instead.\n",
            "  warnings.warn(\"nn.functional.tanh is deprecated. Use torch.tanh instead.\")\n"
          ],
          "name": "stderr"
        },
        {
          "output_type": "error",
          "ename": "NotImplementedError",
          "evalue": "ignored",
          "traceback": [
            "\u001b[0;31m---------------------------------------------------------------------------\u001b[0m",
            "\u001b[0;31mNotImplementedError\u001b[0m                       Traceback (most recent call last)",
            "\u001b[0;32m<ipython-input-13-9752e817bb56>\u001b[0m in \u001b[0;36m<module>\u001b[0;34m()\u001b[0m\n\u001b[1;32m      7\u001b[0m         \u001b[0maction\u001b[0m \u001b[0;34m=\u001b[0m \u001b[0mpolicy_net\u001b[0m\u001b[0;34m.\u001b[0m\u001b[0mget_action\u001b[0m\u001b[0;34m(\u001b[0m\u001b[0mstate\u001b[0m\u001b[0;34m)\u001b[0m\u001b[0;34m\u001b[0m\u001b[0;34m\u001b[0m\u001b[0m\n\u001b[1;32m      8\u001b[0m         \u001b[0maction\u001b[0m \u001b[0;34m=\u001b[0m \u001b[0mou_noise\u001b[0m\u001b[0;34m.\u001b[0m\u001b[0mget_action\u001b[0m\u001b[0;34m(\u001b[0m\u001b[0maction\u001b[0m\u001b[0;34m,\u001b[0m \u001b[0mstep\u001b[0m\u001b[0;34m)\u001b[0m\u001b[0;34m\u001b[0m\u001b[0;34m\u001b[0m\u001b[0m\n\u001b[0;32m----> 9\u001b[0;31m         \u001b[0mnext_state\u001b[0m\u001b[0;34m,\u001b[0m \u001b[0mreward\u001b[0m\u001b[0;34m,\u001b[0m \u001b[0mdone\u001b[0m\u001b[0;34m,\u001b[0m \u001b[0m_\u001b[0m \u001b[0;34m=\u001b[0m \u001b[0menv\u001b[0m\u001b[0;34m.\u001b[0m\u001b[0mstep\u001b[0m\u001b[0;34m(\u001b[0m\u001b[0maction\u001b[0m\u001b[0;34m)\u001b[0m\u001b[0;34m\u001b[0m\u001b[0;34m\u001b[0m\u001b[0m\n\u001b[0m\u001b[1;32m     10\u001b[0m \u001b[0;34m\u001b[0m\u001b[0m\n\u001b[1;32m     11\u001b[0m         \u001b[0mreplay_buffer\u001b[0m\u001b[0;34m.\u001b[0m\u001b[0mpush\u001b[0m\u001b[0;34m(\u001b[0m\u001b[0mstate\u001b[0m\u001b[0;34m,\u001b[0m \u001b[0maction\u001b[0m\u001b[0;34m,\u001b[0m \u001b[0mreward\u001b[0m\u001b[0;34m,\u001b[0m \u001b[0mnext_state\u001b[0m\u001b[0;34m,\u001b[0m \u001b[0mdone\u001b[0m\u001b[0;34m)\u001b[0m\u001b[0;34m\u001b[0m\u001b[0;34m\u001b[0m\u001b[0m\n",
            "\u001b[0;32m/usr/local/lib/python3.6/dist-packages/gym/core.py\u001b[0m in \u001b[0;36mstep\u001b[0;34m(self, action)\u001b[0m\n\u001b[1;32m    290\u001b[0m \u001b[0;34m\u001b[0m\u001b[0m\n\u001b[1;32m    291\u001b[0m     \u001b[0;32mdef\u001b[0m \u001b[0mstep\u001b[0m\u001b[0;34m(\u001b[0m\u001b[0mself\u001b[0m\u001b[0;34m,\u001b[0m \u001b[0maction\u001b[0m\u001b[0;34m)\u001b[0m\u001b[0;34m:\u001b[0m\u001b[0;34m\u001b[0m\u001b[0;34m\u001b[0m\u001b[0m\n\u001b[0;32m--> 292\u001b[0;31m         \u001b[0;32mreturn\u001b[0m \u001b[0mself\u001b[0m\u001b[0;34m.\u001b[0m\u001b[0menv\u001b[0m\u001b[0;34m.\u001b[0m\u001b[0mstep\u001b[0m\u001b[0;34m(\u001b[0m\u001b[0mself\u001b[0m\u001b[0;34m.\u001b[0m\u001b[0maction\u001b[0m\u001b[0;34m(\u001b[0m\u001b[0maction\u001b[0m\u001b[0;34m)\u001b[0m\u001b[0;34m)\u001b[0m\u001b[0;34m\u001b[0m\u001b[0;34m\u001b[0m\u001b[0m\n\u001b[0m\u001b[1;32m    293\u001b[0m \u001b[0;34m\u001b[0m\u001b[0m\n\u001b[1;32m    294\u001b[0m     \u001b[0;32mdef\u001b[0m \u001b[0maction\u001b[0m\u001b[0;34m(\u001b[0m\u001b[0mself\u001b[0m\u001b[0;34m,\u001b[0m \u001b[0maction\u001b[0m\u001b[0;34m)\u001b[0m\u001b[0;34m:\u001b[0m\u001b[0;34m\u001b[0m\u001b[0;34m\u001b[0m\u001b[0m\n",
            "\u001b[0;32m/usr/local/lib/python3.6/dist-packages/gym/core.py\u001b[0m in \u001b[0;36maction\u001b[0;34m(self, action)\u001b[0m\n\u001b[1;32m    293\u001b[0m \u001b[0;34m\u001b[0m\u001b[0m\n\u001b[1;32m    294\u001b[0m     \u001b[0;32mdef\u001b[0m \u001b[0maction\u001b[0m\u001b[0;34m(\u001b[0m\u001b[0mself\u001b[0m\u001b[0;34m,\u001b[0m \u001b[0maction\u001b[0m\u001b[0;34m)\u001b[0m\u001b[0;34m:\u001b[0m\u001b[0;34m\u001b[0m\u001b[0;34m\u001b[0m\u001b[0m\n\u001b[0;32m--> 295\u001b[0;31m         \u001b[0;32mraise\u001b[0m \u001b[0mNotImplementedError\u001b[0m\u001b[0;34m\u001b[0m\u001b[0;34m\u001b[0m\u001b[0m\n\u001b[0m\u001b[1;32m    296\u001b[0m \u001b[0;34m\u001b[0m\u001b[0m\n\u001b[1;32m    297\u001b[0m     \u001b[0;32mdef\u001b[0m \u001b[0mreverse_action\u001b[0m\u001b[0;34m(\u001b[0m\u001b[0mself\u001b[0m\u001b[0;34m,\u001b[0m \u001b[0maction\u001b[0m\u001b[0;34m)\u001b[0m\u001b[0;34m:\u001b[0m\u001b[0;34m\u001b[0m\u001b[0;34m\u001b[0m\u001b[0m\n",
            "\u001b[0;31mNotImplementedError\u001b[0m: "
          ]
        }
      ]
    }
  ]
}