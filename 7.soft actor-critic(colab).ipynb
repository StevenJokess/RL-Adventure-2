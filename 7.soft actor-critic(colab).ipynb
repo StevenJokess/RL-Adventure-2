{
  "nbformat": 4,
  "nbformat_minor": 0,
  "metadata": {
    "kernelspec": {
      "display_name": "Python [conda env:pytorch4]",
      "language": "python",
      "name": "conda-env-pytorch4-py"
    },
    "language_info": {
      "codemirror_mode": {
        "name": "ipython",
        "version": 3
      },
      "file_extension": ".py",
      "mimetype": "text/x-python",
      "name": "python",
      "nbconvert_exporter": "python",
      "pygments_lexer": "ipython3",
      "version": "3.5.5"
    },
    "colab": {
      "name": "7.soft actor-critic.ipynb",
      "provenance": []
    }
  },
  "cells": [
    {
      "cell_type": "code",
      "metadata": {
        "id": "OXXvzaMUsr_1",
        "outputId": "28c47804-afbe-4772-c812-e67891d85d29",
        "colab": {
          "base_uri": "https://localhost:8080/"
        }
      },
      "source": [
        "!pip install git+https://github.com/StevenJokess/RL-Adventure-2\r\n",
        "!git clone https://github.com/StevenJokess/RL-Adventure-2\r\n",
        "%cd RL-Adventure-2\r\n",
        "!ls"
      ],
      "execution_count": 1,
      "outputs": [
        {
          "output_type": "stream",
          "text": [
            "Collecting git+https://github.com/StevenJokess/RL-Adventure-2\n",
            "  Cloning https://github.com/StevenJokess/RL-Adventure-2 to /tmp/pip-req-build-2yc5p6bc\n",
            "  Running command git clone -q https://github.com/StevenJokess/RL-Adventure-2 /tmp/pip-req-build-2yc5p6bc\n",
            "\u001b[31mERROR: Command errored out with exit status 1: python setup.py egg_info Check the logs for full command output.\u001b[0m\n",
            "fatal: destination path 'RL-Adventure-2' already exists and is not an empty directory.\n",
            "/content/RL-Adventure-2\n",
            "'1.actor-critic(colab).ipynb'   5.ddpg.ipynb\n",
            " 1.actor-critic.ipynb\t       '6.td3(colab).ipynb'\n",
            "'2.gae(colab).ipynb'\t        6.td3.ipynb\n",
            " 2.gae.ipynb\t\t       '7.soft actor-critic.ipynb'\n",
            "'3.ppo(colab).ipynb'\t        8.gail.ipynb\n",
            " 3.ppo.ipynb\t\t        9.her.ipynb\n",
            "'4.acer(colab).ipynb'\t        common\n",
            " 4.acer.ipynb\t\t        README.md\n",
            "'5.ddpg(colab).ipynb'\n"
          ],
          "name": "stdout"
        }
      ]
    },
    {
      "cell_type": "code",
      "metadata": {
        "id": "XFZxDPX5srDI"
      },
      "source": [
        "import math\n",
        "import random\n",
        "\n",
        "import gym\n",
        "import numpy as np\n",
        "\n",
        "import torch\n",
        "import torch.nn as nn\n",
        "import torch.optim as optim\n",
        "import torch.nn.functional as F\n",
        "from torch.distributions import Normal"
      ],
      "execution_count": 2,
      "outputs": []
    },
    {
      "cell_type": "code",
      "metadata": {
        "id": "6MLwCgiosrDT"
      },
      "source": [
        "from IPython.display import clear_output\n",
        "import matplotlib.pyplot as plt\n",
        "%matplotlib inline"
      ],
      "execution_count": 3,
      "outputs": []
    },
    {
      "cell_type": "markdown",
      "metadata": {
        "id": "J0NIKALlsrDU"
      },
      "source": [
        "<h2>Use CUDA</h2>"
      ]
    },
    {
      "cell_type": "code",
      "metadata": {
        "id": "RiND1MAbsrDU"
      },
      "source": [
        "use_cuda = torch.cuda.is_available()\n",
        "device   = torch.device(\"cuda\" if use_cuda else \"cpu\")"
      ],
      "execution_count": 4,
      "outputs": []
    },
    {
      "cell_type": "markdown",
      "metadata": {
        "id": "oki3ejlYsrDU"
      },
      "source": [
        "<h2>Replay Buffer</h2>"
      ]
    },
    {
      "cell_type": "code",
      "metadata": {
        "id": "7YZXSvuasrDV"
      },
      "source": [
        "class ReplayBuffer:\n",
        "    def __init__(self, capacity):\n",
        "        self.capacity = capacity\n",
        "        self.buffer = []\n",
        "        self.position = 0\n",
        "    \n",
        "    def push(self, state, action, reward, next_state, done):\n",
        "        if len(self.buffer) < self.capacity:\n",
        "            self.buffer.append(None)\n",
        "        self.buffer[self.position] = (state, action, reward, next_state, done)\n",
        "        self.position = (self.position + 1) % self.capacity\n",
        "    \n",
        "    def sample(self, batch_size):\n",
        "        batch = random.sample(self.buffer, batch_size)\n",
        "        state, action, reward, next_state, done = map(np.stack, zip(*batch))\n",
        "        return state, action, reward, next_state, done\n",
        "    \n",
        "    def __len__(self):\n",
        "        return len(self.buffer)"
      ],
      "execution_count": 5,
      "outputs": []
    },
    {
      "cell_type": "code",
      "metadata": {
        "id": "xE3LP1JUsrDV"
      },
      "source": [
        "class NormalizedActions(gym.ActionWrapper):\n",
        "    \n",
        "    def action(self, action):\n",
        "        low  = self.action_space.low\n",
        "        high = self.action_space.high\n",
        "        \n",
        "        action = low + (action + 1.0) * 0.5 * (high - low)\n",
        "        action = np.clip(action, low, high)\n",
        "        \n",
        "        return action\n",
        "\n",
        "    def reverse_action(self, action):\n",
        "        low  = self.action_space.low\n",
        "        high = self.action_space.high\n",
        "        \n",
        "        action = 2 * (action - low) / (high - low) - 1\n",
        "        action = np.clip(action, low, high)\n",
        "        \n",
        "        return actions"
      ],
      "execution_count": 6,
      "outputs": []
    },
    {
      "cell_type": "code",
      "metadata": {
        "id": "tmlTaq7KsrDW"
      },
      "source": [
        "def plot(frame_idx, rewards):\n",
        "    clear_output(True)\n",
        "    plt.figure(figsize=(20,5))\n",
        "    plt.subplot(131)\n",
        "    plt.title('frame %s. reward: %s' % (frame_idx, rewards[-1]))\n",
        "    plt.plot(rewards)\n",
        "    plt.show()"
      ],
      "execution_count": 7,
      "outputs": []
    },
    {
      "cell_type": "markdown",
      "metadata": {
        "id": "JJTslV06srDW"
      },
      "source": [
        "<h1>Soft Actor-Critic: Off-Policy Maximum Entropy Deep Reinforcement Learning with a Stochastic Actor</h1>\n",
        "<h2><a href=\"https://arxiv.org/abs/1801.01290\">Arxiv</a></h2>"
      ]
    },
    {
      "cell_type": "code",
      "metadata": {
        "id": "InajK0s2srDW"
      },
      "source": [
        "class ValueNetwork(nn.Module):\n",
        "    def __init__(self, state_dim, hidden_dim, init_w=3e-3):\n",
        "        super(ValueNetwork, self).__init__()\n",
        "        \n",
        "        self.linear1 = nn.Linear(state_dim, hidden_dim)\n",
        "        self.linear2 = nn.Linear(hidden_dim, hidden_dim)\n",
        "        self.linear3 = nn.Linear(hidden_dim, 1)\n",
        "        \n",
        "        self.linear3.weight.data.uniform_(-init_w, init_w)\n",
        "        self.linear3.bias.data.uniform_(-init_w, init_w)\n",
        "        \n",
        "    def forward(self, state):\n",
        "        x = F.relu(self.linear1(state))\n",
        "        x = F.relu(self.linear2(x))\n",
        "        x = self.linear3(x)\n",
        "        return x\n",
        "        \n",
        "        \n",
        "class SoftQNetwork(nn.Module):\n",
        "    def __init__(self, num_inputs, num_actions, hidden_size, init_w=3e-3):\n",
        "        super(SoftQNetwork, self).__init__()\n",
        "        \n",
        "        self.linear1 = nn.Linear(num_inputs + num_actions, hidden_size)\n",
        "        self.linear2 = nn.Linear(hidden_size, hidden_size)\n",
        "        self.linear3 = nn.Linear(hidden_size, 1)\n",
        "        \n",
        "        self.linear3.weight.data.uniform_(-init_w, init_w)\n",
        "        self.linear3.bias.data.uniform_(-init_w, init_w)\n",
        "        \n",
        "    def forward(self, state, action):\n",
        "        x = torch.cat([state, action], 1)\n",
        "        x = F.relu(self.linear1(x))\n",
        "        x = F.relu(self.linear2(x))\n",
        "        x = self.linear3(x)\n",
        "        return x\n",
        "        \n",
        "        \n",
        "class PolicyNetwork(nn.Module):\n",
        "    def __init__(self, num_inputs, num_actions, hidden_size, init_w=3e-3, log_std_min=-20, log_std_max=2):\n",
        "        super(PolicyNetwork, self).__init__()\n",
        "        \n",
        "        self.log_std_min = log_std_min\n",
        "        self.log_std_max = log_std_max\n",
        "        \n",
        "        self.linear1 = nn.Linear(num_inputs, hidden_size)\n",
        "        self.linear2 = nn.Linear(hidden_size, hidden_size)\n",
        "        \n",
        "        self.mean_linear = nn.Linear(hidden_size, num_actions)\n",
        "        self.mean_linear.weight.data.uniform_(-init_w, init_w)\n",
        "        self.mean_linear.bias.data.uniform_(-init_w, init_w)\n",
        "        \n",
        "        self.log_std_linear = nn.Linear(hidden_size, num_actions)\n",
        "        self.log_std_linear.weight.data.uniform_(-init_w, init_w)\n",
        "        self.log_std_linear.bias.data.uniform_(-init_w, init_w)\n",
        "        \n",
        "    def forward(self, state):\n",
        "        x = F.relu(self.linear1(state))\n",
        "        x = F.relu(self.linear2(x))\n",
        "        \n",
        "        mean    = self.mean_linear(x)\n",
        "        log_std = self.log_std_linear(x)\n",
        "        log_std = torch.clamp(log_std, self.log_std_min, self.log_std_max)\n",
        "        \n",
        "        return mean, log_std\n",
        "    \n",
        "    def evaluate(self, state, epsilon=1e-6):\n",
        "        mean, log_std = self.forward(state)\n",
        "        std = log_std.exp()\n",
        "        \n",
        "        normal = Normal(mean, std)\n",
        "        z = normal.sample()\n",
        "        action = torch.tanh(z)\n",
        "        \n",
        "        log_prob = normal.log_prob(z) - torch.log(1 - action.pow(2) + epsilon)\n",
        "        log_prob = log_prob.sum(-1, keepdim=True)\n",
        "        \n",
        "        return action, log_prob, z, mean, log_std\n",
        "        \n",
        "    \n",
        "    def get_action(self, state):\n",
        "        state = torch.FloatTensor(state).unsqueeze(0).to(device)\n",
        "        mean, log_std = self.forward(state)\n",
        "        std = log_std.exp()\n",
        "        \n",
        "        normal = Normal(mean, std)\n",
        "        z      = normal.sample()\n",
        "        action = torch.tanh(z)\n",
        "        \n",
        "        action  = action.detach().cpu().numpy()\n",
        "        return action[0]"
      ],
      "execution_count": 8,
      "outputs": []
    },
    {
      "cell_type": "code",
      "metadata": {
        "id": "HIG0HB1isrDY"
      },
      "source": [
        "def soft_q_update(batch_size, \n",
        "           gamma=0.99,\n",
        "           mean_lambda=1e-3,\n",
        "           std_lambda=1e-3,\n",
        "           z_lambda=0.0,\n",
        "           soft_tau=1e-2,\n",
        "          ):\n",
        "    state, action, reward, next_state, done = replay_buffer.sample(batch_size)\n",
        "\n",
        "    state      = torch.FloatTensor(state).to(device)\n",
        "    next_state = torch.FloatTensor(next_state).to(device)\n",
        "    action     = torch.FloatTensor(action).to(device)\n",
        "    reward     = torch.FloatTensor(reward).unsqueeze(1).to(device)\n",
        "    done       = torch.FloatTensor(np.float32(done)).unsqueeze(1).to(device)\n",
        "\n",
        "    expected_q_value = soft_q_net(state, action)\n",
        "    expected_value   = value_net(state)\n",
        "    new_action, log_prob, z, mean, log_std = policy_net.evaluate(state)\n",
        "\n",
        "\n",
        "    target_value = target_value_net(next_state)\n",
        "    next_q_value = reward + (1 - done) * gamma * target_value\n",
        "    q_value_loss = soft_q_criterion(expected_q_value, next_q_value.detach())\n",
        "\n",
        "    expected_new_q_value = soft_q_net(state, new_action)\n",
        "    next_value = expected_new_q_value - log_prob\n",
        "    value_loss = value_criterion(expected_value, next_value.detach())\n",
        "\n",
        "    log_prob_target = expected_new_q_value - expected_value\n",
        "    policy_loss = (log_prob * (log_prob - log_prob_target).detach()).mean()\n",
        "    \n",
        "\n",
        "    mean_loss = mean_lambda * mean.pow(2).mean()\n",
        "    std_loss  = std_lambda  * log_std.pow(2).mean()\n",
        "    z_loss    = z_lambda    * z.pow(2).sum(1).mean()\n",
        "\n",
        "    policy_loss += mean_loss + std_loss + z_loss\n",
        "\n",
        "    soft_q_optimizer.zero_grad()\n",
        "    q_value_loss.backward()\n",
        "    soft_q_optimizer.step()\n",
        "\n",
        "    value_optimizer.zero_grad()\n",
        "    value_loss.backward()\n",
        "    value_optimizer.step()\n",
        "\n",
        "    policy_optimizer.zero_grad()\n",
        "    policy_loss.backward()\n",
        "    policy_optimizer.step()\n",
        "    \n",
        "    \n",
        "    for target_param, param in zip(target_value_net.parameters(), value_net.parameters()):\n",
        "        target_param.data.copy_(\n",
        "            target_param.data * (1.0 - soft_tau) + param.data * soft_tau\n",
        "        )"
      ],
      "execution_count": 9,
      "outputs": []
    },
    {
      "cell_type": "code",
      "metadata": {
        "id": "XAK5GPLIsrDY"
      },
      "source": [
        "env = NormalizedActions(gym.make(\"Pendulum-v0\"))\n",
        "\n",
        "action_dim = env.action_space.shape[0]\n",
        "state_dim  = env.observation_space.shape[0]\n",
        "hidden_dim = 256\n",
        "\n",
        "value_net        = ValueNetwork(state_dim, hidden_dim).to(device)\n",
        "target_value_net = ValueNetwork(state_dim, hidden_dim).to(device)\n",
        "\n",
        "soft_q_net = SoftQNetwork(state_dim, action_dim, hidden_dim).to(device)\n",
        "policy_net = PolicyNetwork(state_dim, action_dim, hidden_dim).to(device)\n",
        "\n",
        "for target_param, param in zip(target_value_net.parameters(), value_net.parameters()):\n",
        "    target_param.data.copy_(param.data)\n",
        "    \n",
        "\n",
        "value_criterion  = nn.MSELoss()\n",
        "soft_q_criterion = nn.MSELoss()\n",
        "\n",
        "value_lr  = 3e-4\n",
        "soft_q_lr = 3e-4\n",
        "policy_lr = 3e-4\n",
        "\n",
        "value_optimizer  = optim.Adam(value_net.parameters(), lr=value_lr)\n",
        "soft_q_optimizer = optim.Adam(soft_q_net.parameters(), lr=soft_q_lr)\n",
        "policy_optimizer = optim.Adam(policy_net.parameters(), lr=policy_lr)\n",
        "\n",
        "\n",
        "replay_buffer_size = 1000000\n",
        "replay_buffer = ReplayBuffer(replay_buffer_size)"
      ],
      "execution_count": 10,
      "outputs": []
    },
    {
      "cell_type": "code",
      "metadata": {
        "id": "60jSG1XasrDb"
      },
      "source": [
        "max_frames  = 40000\n",
        "max_steps   = 500\n",
        "frame_idx   = 0\n",
        "rewards     = []\n",
        "batch_size  = 128"
      ],
      "execution_count": 11,
      "outputs": []
    },
    {
      "cell_type": "code",
      "metadata": {
        "id": "D821cxBnsrDc"
      },
      "source": [
        "max_frames  = 40000"
      ],
      "execution_count": 12,
      "outputs": []
    },
    {
      "cell_type": "code",
      "metadata": {
        "id": "qVMI-7r0srDc",
        "outputId": "14bf15c4-18e6-46e5-b45f-74c66703e9e6",
        "colab": {
          "base_uri": "https://localhost:8080/",
          "height": 336
        }
      },
      "source": [
        "while frame_idx < max_frames:\n",
        "    state = env.reset()\n",
        "    episode_reward = 0\n",
        "    \n",
        "    for step in range(max_steps):\n",
        "        action = policy_net.get_action(state)\n",
        "        next_state, reward, done, _ = env.step(action)\n",
        "        \n",
        "        replay_buffer.push(state, action, reward, next_state, done)\n",
        "        if len(replay_buffer) > batch_size:\n",
        "            soft_q_update(batch_size)\n",
        "        \n",
        "        state = next_state\n",
        "        episode_reward += reward\n",
        "        frame_idx += 1\n",
        "        \n",
        "        if frame_idx % 1000 == 0:\n",
        "            plot(frame_idx, rewards)\n",
        "        \n",
        "        if done:\n",
        "            break\n",
        "        \n",
        "    rewards.append(episode_reward)"
      ],
      "execution_count": 13,
      "outputs": [
        {
          "output_type": "display_data",
          "data": {
            "image/png": "[encoded data removed]",
            "text/plain": [
              "<Figure size 1440x360 with 1 Axes>"
            ]
          },
          "metadata": {
            "tags": [],
            "needs_background": "light"
          }
        }
      ]
    },
    {
      "cell_type": "code",
      "metadata": {
        "id": "0T4vY1CFsrDd"
      },
      "source": [
        ""
      ],
      "execution_count": 13,
      "outputs": []
    },
    {
      "cell_type": "code",
      "metadata": {
        "id": "g9bYGyDFsrDe"
      },
      "source": [
        ""
      ],
      "execution_count": 13,
      "outputs": []
    }
  ]
}