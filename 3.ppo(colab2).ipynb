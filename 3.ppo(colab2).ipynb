{
  "nbformat": 4,
  "nbformat_minor": 0,
  "metadata": {
    "kernelspec": {
      "display_name": "Python [conda env:pytorch4]",
      "language": "python",
      "name": "conda-env-pytorch4-py"
    },
    "language_info": {
      "codemirror_mode": {
        "name": "ipython",
        "version": 3
      },
      "file_extension": ".py",
      "mimetype": "text/x-python",
      "name": "python",
      "nbconvert_exporter": "python",
      "pygments_lexer": "ipython3",
      "version": "3.5.5"
    },
    "colab": {
      "name": "3.ppo.ipynb",
      "provenance": []
    },
    "accelerator": "GPU"
  },
  "cells": [
    {
      "cell_type": "code",
      "metadata": {
        "id": "PbaHh0K1LqEY",
        "colab": {
          "base_uri": "https://localhost:8080/"
        },
        "outputId": "324183a4-6833-47a6-842d-7c4d961d0246"
      },
      "source": [
        "!pip install git+https://github.com/StevenJokess/RL-Adventure-2\r\n",
        "!git clone https://github.com/StevenJokess/RL-Adventure-2\r\n",
        "%cd RL-Adventure-2\r\n",
        "!ls"
      ],
      "execution_count": 1,
      "outputs": [
        {
          "output_type": "stream",
          "text": [
            "Collecting git+https://github.com/StevenJokess/RL-Adventure-2\n",
            "  Cloning https://github.com/StevenJokess/RL-Adventure-2 to /tmp/pip-req-build-_1t5rv_9\n",
            "  Running command git clone -q https://github.com/StevenJokess/RL-Adventure-2 /tmp/pip-req-build-_1t5rv_9\n",
            "\u001b[31mERROR: Command errored out with exit status 1: python setup.py egg_info Check the logs for full command output.\u001b[0m\n",
            "Cloning into 'RL-Adventure-2'...\n",
            "remote: Enumerating objects: 28, done.\u001b[K\n",
            "remote: Counting objects: 100% (28/28), done.\u001b[K\n",
            "remote: Compressing objects: 100% (27/27), done.\u001b[K\n",
            "remote: Total 66 (delta 10), reused 0 (delta 0), pack-reused 38\u001b[K\n",
            "Unpacking objects: 100% (66/66), done.\n",
            "/content/RL-Adventure-2\n",
            "'1.actor-critic(colab).ipynb'   5.ddpg.ipynb\n",
            " 1.actor-critic.ipynb\t       '6.td3(colab).ipynb'\n",
            "'2.gae(colab).ipynb'\t        6.td3.ipynb\n",
            " 2.gae.ipynb\t\t       '7.soft actor-critic(colab).ipynb'\n",
            "'3.ppo(colab).ipynb'\t       '7.soft actor-critic.ipynb'\n",
            " 3.ppo.ipynb\t\t        8.gail.ipynb\n",
            "'4.acer(colab).ipynb'\t        9.her.ipynb\n",
            " 4.acer.ipynb\t\t        common\n",
            "'5.ddpg(colab).ipynb'\t        README.md\n"
          ],
          "name": "stdout"
        }
      ]
    },
    {
      "cell_type": "code",
      "metadata": {
        "id": "q07DBS6-LUWr"
      },
      "source": [
        "import math\n",
        "import random\n",
        "\n",
        "import gym\n",
        "import numpy as np\n",
        "\n",
        "import torch\n",
        "import torch.nn as nn\n",
        "import torch.optim as optim\n",
        "import torch.nn.functional as F\n",
        "from torch.distributions import Normal"
      ],
      "execution_count": 2,
      "outputs": []
    },
    {
      "cell_type": "code",
      "metadata": {
        "id": "_l_OoOP7LUW0"
      },
      "source": [
        "from IPython.display import clear_output\n",
        "import matplotlib.pyplot as plt\n",
        "%matplotlib inline"
      ],
      "execution_count": 3,
      "outputs": []
    },
    {
      "cell_type": "markdown",
      "metadata": {
        "id": "4P1Pfq0ELUW1"
      },
      "source": [
        "<h2>Use CUDA</h2>"
      ]
    },
    {
      "cell_type": "code",
      "metadata": {
        "id": "8Mr4HFkRLUW2"
      },
      "source": [
        "use_cuda = torch.cuda.is_available()\n",
        "device   = torch.device(\"cuda\" if use_cuda else \"cpu\")"
      ],
      "execution_count": 4,
      "outputs": []
    },
    {
      "cell_type": "markdown",
      "metadata": {
        "id": "9Zryqg1ULUW2"
      },
      "source": [
        "<h2>Create Environments</h2>"
      ]
    },
    {
      "cell_type": "code",
      "metadata": {
        "id": "WGNIWlbiLUW2"
      },
      "source": [
        "from common.multiprocessing_env import SubprocVecEnv\n",
        "\n",
        "num_envs = 16\n",
        "env_name = \"Pendulum-v0\"\n",
        "\n",
        "def make_env():\n",
        "    def _thunk():\n",
        "        env = gym.make(env_name)\n",
        "        return env\n",
        "\n",
        "    return _thunk\n",
        "\n",
        "envs = [make_env() for i in range(num_envs)]\n",
        "envs = SubprocVecEnv(envs)\n",
        "\n",
        "env = gym.make(env_name)"
      ],
      "execution_count": 5,
      "outputs": []
    },
    {
      "cell_type": "markdown",
      "metadata": {
        "id": "9Vt4ODueLUW3"
      },
      "source": [
        "<h2>Neural Network</h2>"
      ]
    },
    {
      "cell_type": "code",
      "metadata": {
        "id": "G1j_Z3O3LUW3"
      },
      "source": [
        "def init_weights(m):\n",
        "    if isinstance(m, nn.Linear):\n",
        "        nn.init.normal_(m.weight, mean=0., std=0.1)\n",
        "        nn.init.constant_(m.bias, 0.1)\n",
        "        \n",
        "\n",
        "class ActorCritic(nn.Module):\n",
        "    def __init__(self, num_inputs, num_outputs, hidden_size, std=0.0):\n",
        "        super(ActorCritic, self).__init__()\n",
        "        \n",
        "        self.critic = nn.Sequential(\n",
        "            nn.Linear(num_inputs, hidden_size),\n",
        "            nn.ReLU(),\n",
        "            nn.Linear(hidden_size, 1)\n",
        "        )\n",
        "        \n",
        "        self.actor = nn.Sequential(\n",
        "            nn.Linear(num_inputs, hidden_size),\n",
        "            nn.ReLU(),\n",
        "            nn.Linear(hidden_size, num_outputs),\n",
        "        )\n",
        "        self.log_std = nn.Parameter(torch.ones(1, num_outputs) * std)\n",
        "        \n",
        "        self.apply(init_weights)\n",
        "        \n",
        "    def forward(self, x):\n",
        "        value = self.critic(x)\n",
        "        mu    = self.actor(x)\n",
        "        std   = self.log_std.exp().expand_as(mu)\n",
        "        dist  = Normal(mu, std)\n",
        "        return dist, value"
      ],
      "execution_count": 6,
      "outputs": []
    },
    {
      "cell_type": "code",
      "metadata": {
        "id": "mZXs_HY6LUW3"
      },
      "source": [
        "def plot(frame_idx, rewards):\n",
        "    clear_output(True)\n",
        "    plt.figure(figsize=(20,5))\n",
        "    plt.subplot(131)\n",
        "    plt.title('frame %s. reward: %s' % (frame_idx, rewards[-1]))\n",
        "    plt.plot(rewards)\n",
        "    plt.show()\n",
        "    \n",
        "def test_env(vis=False):\n",
        "    state = env.reset()\n",
        "    if vis: env.render()\n",
        "    done = False\n",
        "    total_reward = 0\n",
        "    while not done:\n",
        "        state = torch.FloatTensor(state).unsqueeze(0).to(device)\n",
        "        dist, _ = model(state)\n",
        "        next_state, reward, done, _ = env.step(dist.sample().cpu().numpy()[0])\n",
        "        state = next_state\n",
        "        if vis: env.render()\n",
        "        total_reward += reward\n",
        "    return total_reward"
      ],
      "execution_count": 7,
      "outputs": []
    },
    {
      "cell_type": "markdown",
      "metadata": {
        "id": "zEwDh2ZGLUW4"
      },
      "source": [
        "<h2>GAE</h2>"
      ]
    },
    {
      "cell_type": "code",
      "metadata": {
        "id": "yDEGeHD6LUW4"
      },
      "source": [
        "def compute_gae(next_value, rewards, masks, values, gamma=0.99, tau=0.95):\n",
        "    values = values + [next_value]\n",
        "    gae = 0\n",
        "    returns = []\n",
        "    for step in reversed(range(len(rewards))):\n",
        "        delta = rewards[step] + gamma * values[step + 1] * masks[step] - values[step]\n",
        "        gae = delta + gamma * tau * masks[step] * gae\n",
        "        returns.insert(0, gae + values[step])\n",
        "    return returns"
      ],
      "execution_count": 8,
      "outputs": []
    },
    {
      "cell_type": "markdown",
      "metadata": {
        "id": "ZFOVwofxLUW5"
      },
      "source": [
        "<h1> Proximal Policy Optimization Algorithm</h1>\n",
        "<h2><a href=\"https://arxiv.org/abs/1707.06347\">Arxiv</a></h2>"
      ]
    },
    {
      "cell_type": "code",
      "metadata": {
        "id": "rO9VDU-kLUW6"
      },
      "source": [
        "def ppo_iter(mini_batch_size, states, actions, log_probs, returns, advantage):\n",
        "    batch_size = states.size(0)\n",
        "    for _ in range(batch_size // mini_batch_size):\n",
        "        rand_ids = np.random.randint(0, batch_size, mini_batch_size)\n",
        "        yield states[rand_ids, :], actions[rand_ids, :], log_probs[rand_ids, :], returns[rand_ids, :], advantage[rand_ids, :]\n",
        "        \n",
        "        \n",
        "\n",
        "def ppo_update(ppo_epochs, mini_batch_size, states, actions, log_probs, returns, advantages, clip_param=0.2):\n",
        "    for _ in range(ppo_epochs):\n",
        "        for state, action, old_log_probs, return_, advantage in ppo_iter(mini_batch_size, states, actions, log_probs, returns, advantages):\n",
        "            dist, value = model(state)\n",
        "            entropy = dist.entropy().mean()\n",
        "            new_log_probs = dist.log_prob(action)\n",
        "\n",
        "            ratio = (new_log_probs - old_log_probs).exp()\n",
        "            surr1 = ratio * advantage\n",
        "            surr2 = torch.clamp(ratio, 1.0 - clip_param, 1.0 + clip_param) * advantage\n",
        "\n",
        "            actor_loss  = - torch.min(surr1, surr2).mean()\n",
        "            critic_loss = (return_ - value).pow(2).mean()\n",
        "\n",
        "            loss = 0.5 * critic_loss + actor_loss - 0.001 * entropy\n",
        "\n",
        "            optimizer.zero_grad()\n",
        "            loss.backward()\n",
        "            optimizer.step()"
      ],
      "execution_count": 9,
      "outputs": []
    },
    {
      "cell_type": "code",
      "metadata": {
        "id": "9XNfADArLUW7"
      },
      "source": [
        "num_inputs  = envs.observation_space.shape[0]\n",
        "num_outputs = envs.action_space.shape[0]\n",
        "\n",
        "#Hyper params:\n",
        "hidden_size      = 256\n",
        "lr               = 3e-4\n",
        "num_steps        = 20\n",
        "mini_batch_size  = 5\n",
        "ppo_epochs       = 4\n",
        "threshold_reward = -200\n",
        "\n",
        "model = ActorCritic(num_inputs, num_outputs, hidden_size).to(device)\n",
        "optimizer = optim.Adam(model.parameters(), lr=lr)"
      ],
      "execution_count": 10,
      "outputs": []
    },
    {
      "cell_type": "code",
      "metadata": {
        "id": "wE7Ly8vhLUW7"
      },
      "source": [
        "max_frames = 4000 #15000\n",
        "frame_idx  = 0\n",
        "test_rewards = []"
      ],
      "execution_count": 11,
      "outputs": []
    },
    {
      "cell_type": "code",
      "metadata": {
        "id": "FN55ZWVJLUW8",
        "colab": {
          "base_uri": "https://localhost:8080/",
          "height": 336
        },
        "outputId": "dddf7310-fbfe-4729-8019-4b140e4a742e"
      },
      "source": [
        "state = envs.reset()\n",
        "early_stop = False\n",
        "\n",
        "while frame_idx < max_frames and not early_stop:\n",
        "\n",
        "    log_probs = []\n",
        "    values    = []\n",
        "    states    = []\n",
        "    actions   = []\n",
        "    rewards   = []\n",
        "    masks     = []\n",
        "    entropy = 0\n",
        "\n",
        "    for _ in range(num_steps):\n",
        "        state = torch.FloatTensor(state).to(device)\n",
        "        dist, value = model(state)\n",
        "\n",
        "        action = dist.sample()\n",
        "        next_state, reward, done, _ = envs.step(action.cpu().numpy())\n",
        "\n",
        "        log_prob = dist.log_prob(action)\n",
        "        entropy += dist.entropy().mean()\n",
        "        \n",
        "        log_probs.append(log_prob)\n",
        "        values.append(value)\n",
        "        rewards.append(torch.FloatTensor(reward).unsqueeze(1).to(device))\n",
        "        masks.append(torch.FloatTensor(1 - done).unsqueeze(1).to(device))\n",
        "        \n",
        "        states.append(state)\n",
        "        actions.append(action)\n",
        "        \n",
        "        state = next_state\n",
        "        frame_idx += 1\n",
        "        \n",
        "        if frame_idx % 1000 == 0:\n",
        "            test_reward = np.mean([test_env() for _ in range(10)])\n",
        "            test_rewards.append(test_reward)\n",
        "            plot(frame_idx, test_rewards)\n",
        "            if test_reward > threshold_reward: early_stop = True\n",
        "            \n",
        "\n",
        "    next_state = torch.FloatTensor(next_state).to(device)\n",
        "    _, next_value = model(next_state)\n",
        "    returns = compute_gae(next_value, rewards, masks, values)\n",
        "\n",
        "    returns   = torch.cat(returns).detach()\n",
        "    log_probs = torch.cat(log_probs).detach()\n",
        "    values    = torch.cat(values).detach()\n",
        "    states    = torch.cat(states)\n",
        "    actions   = torch.cat(actions)\n",
        "    advantage = returns - values\n",
        "    \n",
        "    ppo_update(ppo_epochs, mini_batch_size, states, actions, log_probs, returns, advantage)"
      ],
      "execution_count": 12,
      "outputs": [
        {
          "output_type": "display_data",
          "data": {
            "image/png": "[encoded data removed]",
            "text/plain": [
              "<Figure size 1440x360 with 1 Axes>"
            ]
          },
          "metadata": {
            "tags": [],
            "needs_background": "light"
          }
        }
      ]
    },
    {
      "cell_type": "markdown",
      "metadata": {
        "id": "J_7m5N3iLUW_"
      },
      "source": [
        "<h1>Saving trajectories for GAIL</h1>"
      ]
    },
    {
      "cell_type": "code",
      "metadata": {
        "id": "M7IXR4DLLUXA",
        "colab": {
          "base_uri": "https://localhost:8080/"
        },
        "outputId": "e4ef8ecd-c715-4390-a3cc-56072a762a07"
      },
      "source": [
        "from itertools import count\n",
        "\n",
        "max_expert_num = 50000\n",
        "num_steps = 0\n",
        "expert_traj = []\n",
        "\n",
        "for i_episode in count():\n",
        "    state = env.reset()\n",
        "    done = False\n",
        "    total_reward = 0\n",
        "    \n",
        "    while not done:\n",
        "        state = torch.FloatTensor(state).unsqueeze(0).to(device)\n",
        "        dist, _ = model(state)\n",
        "        action = dist.sample().cpu().numpy()[0]\n",
        "        next_state, reward, done, _ = env.step(action)\n",
        "        state = next_state\n",
        "        total_reward += reward\n",
        "        expert_traj.append(np.hstack([state, action]))\n",
        "        num_steps += 1\n",
        "    \n",
        "    print(\"episode:\", i_episode, \"reward:\", total_reward)\n",
        "    \n",
        "    if num_steps >= max_expert_num:\n",
        "        break\n",
        "        \n",
        "expert_traj = np.stack(expert_traj)\n",
        "print()\n",
        "print(expert_traj.shape)\n",
        "print()\n",
        "np.save(\"expert_traj.npy\", expert_traj)"
      ],
      "execution_count": 13,
      "outputs": [
        {
          "output_type": "stream",
          "text": [
            "episode: 0 reward: -1365.0182666898022\n",
            "episode: 1 reward: -1398.47763874739\n",
            "episode: 2 reward: -1482.6954077995838\n",
            "episode: 3 reward: -802.1188629895494\n",
            "episode: 4 reward: -1399.1008982871253\n",
            "episode: 5 reward: -1578.7116847237805\n",
            "episode: 6 reward: -1503.1010763878448\n",
            "episode: 7 reward: -1339.4541090901294\n",
            "episode: 8 reward: -1470.1698524482777\n",
            "episode: 9 reward: -1623.425814200073\n",
            "episode: 10 reward: -1330.6833987936386\n",
            "episode: 11 reward: -1503.7448909429938\n",
            "episode: 12 reward: -1482.6363268797213\n",
            "episode: 13 reward: -1533.996626955547\n",
            "episode: 14 reward: -1255.0575394803254\n",
            "episode: 15 reward: -1612.5872759069766\n",
            "episode: 16 reward: -1345.0870051395493\n",
            "episode: 17 reward: -1397.566425022208\n",
            "episode: 18 reward: -1614.2813368996678\n",
            "episode: 19 reward: -1359.2140631639904\n",
            "episode: 20 reward: -1585.4407513622637\n",
            "episode: 21 reward: -1377.878556075817\n",
            "episode: 22 reward: -1354.6171232518318\n",
            "episode: 23 reward: -1471.5221233641273\n",
            "episode: 24 reward: -1345.6612448812962\n",
            "episode: 25 reward: -1325.4718574776025\n",
            "episode: 26 reward: -1391.5166669015439\n",
            "episode: 27 reward: -1587.4030672997076\n",
            "episode: 28 reward: -1366.3822881698907\n",
            "episode: 29 reward: -1242.4308024434067\n",
            "episode: 30 reward: -1395.5854943998745\n",
            "episode: 31 reward: -1356.2361494438119\n",
            "episode: 32 reward: -1429.4329211960576\n",
            "episode: 33 reward: -1508.1357950537654\n",
            "episode: 34 reward: -1502.9751302222896\n",
            "episode: 35 reward: -1096.8846003680433\n",
            "episode: 36 reward: -1487.835218684018\n",
            "episode: 37 reward: -1479.3233258019407\n",
            "episode: 38 reward: -871.1206031548862\n",
            "episode: 39 reward: -1419.3377316265194\n",
            "episode: 40 reward: -1398.1665321949029\n",
            "episode: 41 reward: -1385.028764479192\n",
            "episode: 42 reward: -1578.778257646773\n",
            "episode: 43 reward: -1570.8703340685129\n",
            "episode: 44 reward: -1465.0360134992138\n",
            "episode: 45 reward: -1590.3177099316752\n",
            "episode: 46 reward: -1420.2246311494698\n",
            "episode: 47 reward: -1369.9922009400195\n",
            "episode: 48 reward: -1423.0356725262093\n",
            "episode: 49 reward: -1231.5267385072134\n",
            "episode: 50 reward: -1601.2330630596177\n",
            "episode: 51 reward: -1326.1831987930855\n",
            "episode: 52 reward: -1456.050130785923\n",
            "episode: 53 reward: -1182.9224311312837\n",
            "episode: 54 reward: -796.3499700880661\n",
            "episode: 55 reward: -933.4336129160805\n",
            "episode: 56 reward: -1503.9176631317437\n",
            "episode: 57 reward: -1415.7665863597435\n",
            "episode: 58 reward: -1414.8095195354122\n",
            "episode: 59 reward: -1348.3395767938553\n",
            "episode: 60 reward: -1484.6467893616727\n",
            "episode: 61 reward: -1317.78748945872\n",
            "episode: 62 reward: -1526.1770964001018\n",
            "episode: 63 reward: -1405.6952745342394\n",
            "episode: 64 reward: -1304.6885315460424\n",
            "episode: 65 reward: -1461.8329067787859\n",
            "episode: 66 reward: -1369.244110800808\n",
            "episode: 67 reward: -1573.3071372272732\n",
            "episode: 68 reward: -1554.8632438836685\n",
            "episode: 69 reward: -1586.1611193125298\n",
            "episode: 70 reward: -1466.2959540982156\n",
            "episode: 71 reward: -1434.3782890632674\n",
            "episode: 72 reward: -1392.4186684578235\n",
            "episode: 73 reward: -1601.20259752735\n",
            "episode: 74 reward: -1259.4303121153146\n",
            "episode: 75 reward: -1612.6388807725336\n",
            "episode: 76 reward: -1455.8448964417978\n",
            "episode: 77 reward: -1371.5129675801536\n",
            "episode: 78 reward: -1220.0294411983991\n",
            "episode: 79 reward: -1384.4879357879267\n",
            "episode: 80 reward: -1465.081127007882\n",
            "episode: 81 reward: -1529.7604324363163\n",
            "episode: 82 reward: -1504.0487151107975\n",
            "episode: 83 reward: -1446.779225518959\n",
            "episode: 84 reward: -1159.7935959140846\n",
            "episode: 85 reward: -1293.471915709215\n",
            "episode: 86 reward: -1583.3650337919084\n",
            "episode: 87 reward: -1500.7067764799547\n",
            "episode: 88 reward: -1424.355678519798\n",
            "episode: 89 reward: -1281.200703877871\n",
            "episode: 90 reward: -1439.7716078825604\n",
            "episode: 91 reward: -1489.3391381759182\n",
            "episode: 92 reward: -1568.1418804852508\n",
            "episode: 93 reward: -646.9405941917025\n",
            "episode: 94 reward: -1453.1568020404488\n",
            "episode: 95 reward: -1378.9445902539828\n",
            "episode: 96 reward: -1341.6201109637666\n",
            "episode: 97 reward: -1352.0231482272807\n",
            "episode: 98 reward: -1372.2679105623863\n",
            "episode: 99 reward: -1367.5029982221085\n",
            "episode: 100 reward: -1411.2628557368603\n",
            "episode: 101 reward: -1562.1572296401473\n",
            "episode: 102 reward: -1368.980303414058\n",
            "episode: 103 reward: -1519.7823960053072\n",
            "episode: 104 reward: -1501.294010811524\n",
            "episode: 105 reward: -1275.5323501480498\n",
            "episode: 106 reward: -1520.804716515801\n",
            "episode: 107 reward: -1277.859952245092\n",
            "episode: 108 reward: -1391.0107551817653\n",
            "episode: 109 reward: -1494.885512432868\n",
            "episode: 110 reward: -1632.4162011131534\n",
            "episode: 111 reward: -1503.7735343062984\n",
            "episode: 112 reward: -1511.0745654375633\n",
            "episode: 113 reward: -1251.15236169066\n",
            "episode: 114 reward: -1630.8759220593765\n",
            "episode: 115 reward: -1540.845013600204\n",
            "episode: 116 reward: -1505.7209998467204\n",
            "episode: 117 reward: -970.0754592115511\n",
            "episode: 118 reward: -1230.0932087415679\n",
            "episode: 119 reward: -1536.5436438729841\n",
            "episode: 120 reward: -1588.6976718920237\n",
            "episode: 121 reward: -1233.8993024919343\n",
            "episode: 122 reward: -1586.6771189833726\n",
            "episode: 123 reward: -1180.239592055464\n",
            "episode: 124 reward: -1394.65311845967\n",
            "episode: 125 reward: -1625.990012306521\n",
            "episode: 126 reward: -1128.7181203735622\n",
            "episode: 127 reward: -1404.3687982963795\n",
            "episode: 128 reward: -1437.133347700616\n",
            "episode: 129 reward: -1566.9720891258225\n",
            "episode: 130 reward: -1235.3621234136085\n",
            "episode: 131 reward: -1364.6984584741224\n",
            "episode: 132 reward: -1104.0419997640586\n",
            "episode: 133 reward: -1281.0836110936445\n",
            "episode: 134 reward: -1503.3681306274311\n",
            "episode: 135 reward: -1555.5905292368132\n",
            "episode: 136 reward: -1093.156781269318\n",
            "episode: 137 reward: -1553.885732837627\n",
            "episode: 138 reward: -1369.5229607644824\n",
            "episode: 139 reward: -1425.3478489367335\n",
            "episode: 140 reward: -1346.8369513912307\n",
            "episode: 141 reward: -1418.7387313257125\n",
            "episode: 142 reward: -985.9297425436329\n",
            "episode: 143 reward: -1369.156022195542\n",
            "episode: 144 reward: -1494.7153455298358\n",
            "episode: 145 reward: -1432.9154121997185\n",
            "episode: 146 reward: -1076.1943895346633\n",
            "episode: 147 reward: -1198.8695743537464\n",
            "episode: 148 reward: -1476.2491613880823\n",
            "episode: 149 reward: -1486.56238959724\n",
            "episode: 150 reward: -974.8953804469998\n",
            "episode: 151 reward: -1320.5651283908956\n",
            "episode: 152 reward: -1499.8358391765034\n",
            "episode: 153 reward: -1616.5255485959021\n",
            "episode: 154 reward: -1095.2583418496445\n",
            "episode: 155 reward: -1062.8160274729228\n",
            "episode: 156 reward: -1564.7601097623376\n",
            "episode: 157 reward: -1335.1367677637886\n",
            "episode: 158 reward: -1501.423485962709\n",
            "episode: 159 reward: -1393.4714433130152\n",
            "episode: 160 reward: -1539.5140421188419\n",
            "episode: 161 reward: -1411.3683995605636\n",
            "episode: 162 reward: -1469.221827910482\n",
            "episode: 163 reward: -1447.804753368119\n",
            "episode: 164 reward: -1547.6151058189305\n",
            "episode: 165 reward: -1251.383442983985\n",
            "episode: 166 reward: -1413.412425687732\n",
            "episode: 167 reward: -1252.283254849853\n",
            "episode: 168 reward: -1362.8091338321717\n",
            "episode: 169 reward: -1425.0970344066666\n",
            "episode: 170 reward: -1607.7687596898322\n",
            "episode: 171 reward: -1493.350574184641\n",
            "episode: 172 reward: -1335.0060764796992\n",
            "episode: 173 reward: -1409.4104203519262\n",
            "episode: 174 reward: -1366.2787573577687\n",
            "episode: 175 reward: -722.1172885145188\n",
            "episode: 176 reward: -1353.1530887489948\n",
            "episode: 177 reward: -1400.8437620219893\n",
            "episode: 178 reward: -1343.8974547961627\n",
            "episode: 179 reward: -1374.5199700063129\n",
            "episode: 180 reward: -1553.7719395242182\n",
            "episode: 181 reward: -1299.0100591991027\n",
            "episode: 182 reward: -1506.0975096933848\n",
            "episode: 183 reward: -1621.7040847579033\n",
            "episode: 184 reward: -1447.6584649800475\n",
            "episode: 185 reward: -1402.3233030072065\n",
            "episode: 186 reward: -1577.047001041444\n",
            "episode: 187 reward: -1516.5575292374726\n",
            "episode: 188 reward: -1596.3691255913193\n",
            "episode: 189 reward: -1502.2174573303382\n",
            "episode: 190 reward: -1395.3469417876395\n",
            "episode: 191 reward: -1177.804649158186\n",
            "episode: 192 reward: -1484.2946130115563\n",
            "episode: 193 reward: -1379.6967192878271\n",
            "episode: 194 reward: -1367.936620896538\n",
            "episode: 195 reward: -1378.083774004822\n",
            "episode: 196 reward: -1315.2916347469898\n",
            "episode: 197 reward: -1382.5576137169583\n",
            "episode: 198 reward: -1396.9215442517088\n",
            "episode: 199 reward: -1367.1662498783933\n",
            "episode: 200 reward: -1352.9709002119296\n",
            "episode: 201 reward: -1367.6265897343983\n",
            "episode: 202 reward: -816.3021119778576\n",
            "episode: 203 reward: -1554.515592058231\n",
            "episode: 204 reward: -1570.543075900169\n",
            "episode: 205 reward: -1293.1182188815826\n",
            "episode: 206 reward: -1469.8880243353108\n",
            "episode: 207 reward: -1382.6735288932061\n",
            "episode: 208 reward: -1454.6468011896916\n",
            "episode: 209 reward: -1288.2548795650764\n",
            "episode: 210 reward: -1392.2433053661978\n",
            "episode: 211 reward: -1410.1908988691355\n",
            "episode: 212 reward: -1481.3952193127373\n",
            "episode: 213 reward: -1245.0832125785312\n",
            "episode: 214 reward: -1359.7410172543098\n",
            "episode: 215 reward: -1378.479237625807\n",
            "episode: 216 reward: -1228.1449037205984\n",
            "episode: 217 reward: -1435.090213699615\n",
            "episode: 218 reward: -1420.3265697949512\n",
            "episode: 219 reward: -1567.574963878455\n",
            "episode: 220 reward: -1375.1568117721044\n",
            "episode: 221 reward: -1484.2216119248815\n",
            "episode: 222 reward: -1459.5452668404228\n",
            "episode: 223 reward: -1402.7796329857017\n",
            "episode: 224 reward: -1241.1716978147263\n",
            "episode: 225 reward: -1416.3873581196046\n",
            "episode: 226 reward: -1609.693891655136\n",
            "episode: 227 reward: -1498.1333525731393\n",
            "episode: 228 reward: -1504.0310804178234\n",
            "episode: 229 reward: -1452.5654986954166\n",
            "episode: 230 reward: -1560.9305562422794\n",
            "episode: 231 reward: -1492.8715979488613\n",
            "episode: 232 reward: -1546.6821207578575\n",
            "episode: 233 reward: -1406.9870028678763\n",
            "episode: 234 reward: -1594.2372001855401\n",
            "episode: 235 reward: -1534.2740285722227\n",
            "episode: 236 reward: -1488.5090032368976\n",
            "episode: 237 reward: -1242.0645950168725\n",
            "episode: 238 reward: -1552.1019791130811\n",
            "episode: 239 reward: -1392.222037687037\n",
            "episode: 240 reward: -1568.0658534675147\n",
            "episode: 241 reward: -1363.5750685659307\n",
            "episode: 242 reward: -1406.299675223161\n",
            "episode: 243 reward: -1599.2736595695092\n",
            "episode: 244 reward: -1558.0655501681752\n",
            "episode: 245 reward: -1361.8760307005873\n",
            "episode: 246 reward: -1504.7681033830559\n",
            "episode: 247 reward: -1469.9761927917582\n",
            "episode: 248 reward: -1528.9615316471577\n",
            "episode: 249 reward: -1338.3693315630328\n",
            "\n",
            "(50000, 4)\n",
            "\n"
          ],
          "name": "stdout"
        }
      ]
    },
    {
      "cell_type": "code",
      "metadata": {
        "id": "eVrgEAyHxzVW"
      },
      "source": [
        "np.save(\"expert_traj.npy\", expert_traj)"
      ],
      "execution_count": 14,
      "outputs": []
    },
    {
      "cell_type": "code",
      "metadata": {
        "colab": {
          "base_uri": "https://localhost:8080/",
          "height": 131
        },
        "id": "-s12fgOHx1MC",
        "outputId": "71f79f4e-f86d-421f-fc61-a32fc38f730c"
      },
      "source": [
        "np.save(\"expert_traj.npy\", expert_traj);!ls"
      ],
      "execution_count": 15,
      "outputs": [
        {
          "output_type": "error",
          "ename": "SyntaxError",
          "evalue": "ignored",
          "traceback": [
            "\u001b[0;36m  File \u001b[0;32m\"<ipython-input-15-b2ee519a5cb6>\"\u001b[0;36m, line \u001b[0;32m1\u001b[0m\n\u001b[0;31m    np.save(\"expert_traj.npy\", expert_traj);!ls\u001b[0m\n\u001b[0m                                            ^\u001b[0m\n\u001b[0;31mSyntaxError\u001b[0m\u001b[0;31m:\u001b[0m invalid syntax\n"
          ]
        }
      ]
    }
  ]
}