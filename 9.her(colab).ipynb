{
  "nbformat": 4,
  "nbformat_minor": 0,
  "metadata": {
    "kernelspec": {
      "display_name": "Python [conda env:pytorch4]",
      "language": "python",
      "name": "conda-env-pytorch4-py"
    },
    "language_info": {
      "codemirror_mode": {
        "name": "ipython",
        "version": 3
      },
      "file_extension": ".py",
      "mimetype": "text/x-python",
      "name": "python",
      "nbconvert_exporter": "python",
      "pygments_lexer": "ipython3",
      "version": "3.5.5"
    },
    "colab": {
      "name": "9.her.ipynb",
      "provenance": []
    },
    "accelerator": "GPU"
  },
  "cells": [
    {
      "cell_type": "code",
      "metadata": {
        "id": "-VdMJ_sa0Z7j",
        "outputId": "3fd9f39a-ef56-4ed4-d425-2d948aa243e8",
        "colab": {
          "base_uri": "https://localhost:8080/"
        }
      },
      "source": [
        "!pip install git+https://github.com/StevenJokess/RL-Adventure-2\r\n",
        "!git clone https://github.com/StevenJokess/RL-Adventure-2\r\n",
        "%cd RL-Adventure-2\r\n",
        "!ls"
      ],
      "execution_count": 1,
      "outputs": [
        {
          "output_type": "stream",
          "text": [
            "Collecting git+https://github.com/StevenJokess/RL-Adventure-2\n",
            "  Cloning https://github.com/StevenJokess/RL-Adventure-2 to /tmp/pip-req-build-6u5jkp_l\n",
            "  Running command git clone -q https://github.com/StevenJokess/RL-Adventure-2 /tmp/pip-req-build-6u5jkp_l\n",
            "\u001b[31mERROR: Command errored out with exit status 1: python setup.py egg_info Check the logs for full command output.\u001b[0m\n",
            "Cloning into 'RL-Adventure-2'...\n",
            "remote: Enumerating objects: 34, done.\u001b[K\n",
            "remote: Counting objects: 100% (34/34), done.\u001b[K\n",
            "remote: Compressing objects: 100% (33/33), done.\u001b[K\n",
            "remote: Total 72 (delta 12), reused 0 (delta 0), pack-reused 38\u001b[K\n",
            "Unpacking objects: 100% (72/72), done.\n",
            "/content/RL-Adventure-2\n",
            "'1.actor-critic(colab).ipynb'   5.ddpg.ipynb\n",
            " 1.actor-critic.ipynb\t       '6.td3(colab).ipynb'\n",
            "'2.gae(colab).ipynb'\t        6.td3.ipynb\n",
            " 2.gae.ipynb\t\t       '7.soft actor-critic(colab).ipynb'\n",
            "'3.ppo(colab2).ipynb'\t       '7.soft actor-critic.ipynb'\n",
            "'3.ppo(colab).ipynb'\t       '8.gail(colab).ipynb'\n",
            " 3.ppo.ipynb\t\t        8.gail.ipynb\n",
            "'4.acer(colab).ipynb'\t        9.her.ipynb\n",
            " 4.acer.ipynb\t\t        common\n",
            "'5.ddpg(colab).ipynb'\t        README.md\n"
          ],
          "name": "stdout"
        }
      ]
    },
    {
      "cell_type": "code",
      "metadata": {
        "id": "uXj7E4PQ0YHU"
      },
      "source": [
        "import math\n",
        "import random\n",
        "\n",
        "import gym\n",
        "import numpy as np\n",
        "\n",
        "import torch\n",
        "import torch.nn as nn\n",
        "import torch.optim as optim\n",
        "import torch.nn.functional as F\n",
        "from torch.distributions import Categorical"
      ],
      "execution_count": 2,
      "outputs": []
    },
    {
      "cell_type": "code",
      "metadata": {
        "id": "a8qbHN_J0YHd"
      },
      "source": [
        "from IPython.display import clear_output\n",
        "import matplotlib.pyplot as plt\n",
        "%matplotlib inline"
      ],
      "execution_count": 3,
      "outputs": []
    },
    {
      "cell_type": "markdown",
      "metadata": {
        "id": "FKBc8m2P0YHe"
      },
      "source": [
        "<h2>Use CUDA</h2>"
      ]
    },
    {
      "cell_type": "code",
      "metadata": {
        "id": "3I_PC66S0YHf"
      },
      "source": [
        "use_cuda = torch.cuda.is_available()\n",
        "device   = torch.device(\"cuda\" if use_cuda else \"cpu\")"
      ],
      "execution_count": 4,
      "outputs": []
    },
    {
      "cell_type": "markdown",
      "metadata": {
        "id": "B_wvj6tg0YHf"
      },
      "source": [
        "<h2>Replay Buffer</h2>"
      ]
    },
    {
      "cell_type": "code",
      "metadata": {
        "id": "IVCdpR3v0YHf"
      },
      "source": [
        "from collections import deque\n",
        "\n",
        "class ReplayBuffer(object):\n",
        "    def __init__(self, capacity):\n",
        "        self.buffer = deque(maxlen=capacity)\n",
        "    \n",
        "    def push(self, state, action, reward, next_state, done, goal):\n",
        "        self.buffer.append((state, action, reward, next_state, done, goal))\n",
        "    \n",
        "    def sample(self, batch_size):\n",
        "        state, action, reward, next_state, done, goal = zip(*random.sample(self.buffer, batch_size))\n",
        "        return np.stack(state), action, reward, np.stack(next_state), done, np.stack(goal)\n",
        "    \n",
        "    def __len__(self):\n",
        "        return len(self.buffer)"
      ],
      "execution_count": 5,
      "outputs": []
    },
    {
      "cell_type": "markdown",
      "metadata": {
        "id": "h8TbyDk20YHg"
      },
      "source": [
        "<h2>Bit Flipping Environment</h2>"
      ]
    },
    {
      "cell_type": "code",
      "metadata": {
        "id": "m8REt2CJ0YHg"
      },
      "source": [
        "class Env(object):\n",
        "    def __init__(self, num_bits):\n",
        "        self.num_bits = num_bits\n",
        "    \n",
        "    def reset(self):\n",
        "        self.done      = False\n",
        "        self.num_steps = 0\n",
        "        self.state     = np.random.randint(2, size=self.num_bits)\n",
        "        self.target    = np.random.randint(2, size=self.num_bits)\n",
        "        return self.state, self.target\n",
        "    \n",
        "    def step(self, action):\n",
        "        if self.done:\n",
        "            raise RESET\n",
        "        \n",
        "        self.state[action] = 1 - self.state[action]\n",
        "        \n",
        "        if self.num_steps > self.num_bits + 1:\n",
        "            self.done = True\n",
        "        self.num_steps += 1\n",
        "        \n",
        "        if np.sum(self.state == self.target) == self.num_bits:\n",
        "            self.done = True\n",
        "            return np.copy(self.state), 0, self.done, {}\n",
        "        else:\n",
        "            return np.copy(self.state), -1, self.done, {}"
      ],
      "execution_count": 6,
      "outputs": []
    },
    {
      "cell_type": "markdown",
      "metadata": {
        "id": "QTWZr_ly0YHg"
      },
      "source": [
        "<h2>Neural Network</h2>"
      ]
    },
    {
      "cell_type": "code",
      "metadata": {
        "id": "gi2efHzO0YHh"
      },
      "source": [
        "class Model(nn.Module):\n",
        "    def __init__(self, num_inputs, num_outputs, hidden_size=256):\n",
        "        super(Model, self).__init__()\n",
        "        \n",
        "        self.linear1 = nn.Linear(num_inputs,  hidden_size)\n",
        "        self.linear2 = nn.Linear(hidden_size, num_outputs)\n",
        "    \n",
        "    def forward(self, state, goal):\n",
        "        x = torch.cat([state, goal], 1)\n",
        "        x = F.relu(self.linear1(x))\n",
        "        x = self.linear2(x)\n",
        "        return x\n",
        "    \n",
        "def update_target(current_model, target_model):\n",
        "    target_model.load_state_dict(current_model.state_dict())"
      ],
      "execution_count": 7,
      "outputs": []
    },
    {
      "cell_type": "code",
      "metadata": {
        "id": "v4xunktQ0YHh"
      },
      "source": [
        "def get_action(model, state, goal, epsilon=0.1):\n",
        "    if random.random() < 0.1:\n",
        "        return random.randrange(env.num_bits)\n",
        "    \n",
        "    state = torch.FloatTensor(state).unsqueeze(0).to(device)\n",
        "    goal  = torch.FloatTensor(goal).unsqueeze(0).to(device)\n",
        "    q_value = model(state, goal)\n",
        "    return q_value.max(1)[1].item()"
      ],
      "execution_count": 8,
      "outputs": []
    },
    {
      "cell_type": "code",
      "metadata": {
        "id": "jV3DRTle0YHh"
      },
      "source": [
        "def plot(frame_idx, rewards, losses):\n",
        "    clear_output(True)\n",
        "    plt.figure(figsize=(20,5))\n",
        "    plt.subplot(131)\n",
        "    plt.title('Mean Reward: %s. frame: %s' % (rewards[-1], frame_idx))\n",
        "    plt.plot(rewards)\n",
        "    plt.subplot(132)\n",
        "    plt.title('loss')\n",
        "    plt.plot(losses)\n",
        "    plt.show()"
      ],
      "execution_count": 9,
      "outputs": []
    },
    {
      "cell_type": "markdown",
      "metadata": {
        "id": "xFU1K8TP0YHi"
      },
      "source": [
        "<h2>Q-learning TD Error</h2>"
      ]
    },
    {
      "cell_type": "code",
      "metadata": {
        "id": "qjQPAaMD0YHi"
      },
      "source": [
        "def compute_td_error(batch_size):\n",
        "    if batch_size > len(replay_buffer):\n",
        "        return None\n",
        "\n",
        "    state, action, reward, next_state, done, goal = replay_buffer.sample(batch_size)\n",
        "\n",
        "    state      = torch.FloatTensor(state).to(device)\n",
        "    reward     = torch.FloatTensor(reward).unsqueeze(1).to(device)\n",
        "    action     = torch.LongTensor(action).unsqueeze(1).to(device)\n",
        "    next_state = torch.FloatTensor(next_state).to(device)\n",
        "    goal       = torch.FloatTensor(goal).to(device)\n",
        "    mask       = torch.FloatTensor(1 - np.float32(done)).unsqueeze(1).to(device)\n",
        "\n",
        "    q_values = model(state, goal)\n",
        "    q_value  = q_values.gather(1, action)\n",
        "\n",
        "    next_q_values = target_model(next_state, goal)\n",
        "    target_action = next_q_values.max(1)[1].unsqueeze(1)\n",
        "    next_q_value  = target_model(next_state, goal).gather(1, target_action)\n",
        "\n",
        "    expected_q_value = reward + 0.99 * next_q_value * mask\n",
        "\n",
        "    loss = (q_value - expected_q_value.detach()).pow(2).mean()\n",
        "\n",
        "    optimizer.zero_grad()\n",
        "    loss.backward()\n",
        "    optimizer.step()\n",
        "    \n",
        "    return loss"
      ],
      "execution_count": 10,
      "outputs": []
    },
    {
      "cell_type": "markdown",
      "metadata": {
        "id": "_doKeqoW0YHi"
      },
      "source": [
        "<h1>DQN without Hindsight Experience Replay</h1>"
      ]
    },
    {
      "cell_type": "code",
      "metadata": {
        "id": "jPZJAcid0YHi"
      },
      "source": [
        "num_bits = 11\n",
        "env = Env(num_bits)\n",
        "\n",
        "model        = Model(2 * num_bits, num_bits).to(device)\n",
        "target_model = Model(2 * num_bits, num_bits).to(device)\n",
        "update_target(model, target_model)\n",
        "\n",
        "#hyperparams:\n",
        "batch_size = 5\n",
        "new_goals  = 5\n",
        "max_frames = 200000\n",
        "    \n",
        "optimizer = optim.Adam(model.parameters())\n",
        "replay_buffer = ReplayBuffer(10000)"
      ],
      "execution_count": 11,
      "outputs": []
    },
    {
      "cell_type": "code",
      "metadata": {
        "id": "VtKo6fiC0YHj",
        "outputId": "f1444ca5-374d-4a3f-f666-75d58504efa8",
        "colab": {
          "base_uri": "https://localhost:8080/",
          "height": 201
        }
      },
      "source": [
        "frame_idx = 0\n",
        "all_rewards = []\n",
        "losses = []\n",
        "\n",
        "while frame_idx < max_frames:\n",
        "    state, goal = env.reset()\n",
        "    done = False\n",
        "    episode = []\n",
        "    total_reward = 0\n",
        "    while not done:\n",
        "        action = get_action(model, state, goal)\n",
        "        next_state, reward, done, _ = env.step(action)\n",
        "        replay_buffer.push(state, action, reward, next_state, done, goal)\n",
        "        state = next_state\n",
        "        total_reward += reward\n",
        "        frame_idx += 1\n",
        "        \n",
        "        if frame_idx % 1000 == 0:\n",
        "            plot(frame_idx, [np.mean(all_rewards[i:i+100]) for i in range(0, len(all_rewards), 100)], losses)\n",
        "        \n",
        "    all_rewards.append(total_reward)\n",
        "    \n",
        "    loss = compute_td_error(batch_size)\n",
        "    if loss is not None: losses.append(loss.data[0])"
      ],
      "execution_count": 12,
      "outputs": [
        {
          "output_type": "error",
          "ename": "IndexError",
          "evalue": "ignored",
          "traceback": [
            "\u001b[0;31m---------------------------------------------------------------------------\u001b[0m",
            "\u001b[0;31mIndexError\u001b[0m                                Traceback (most recent call last)",
            "\u001b[0;32m<ipython-input-12-dca5a4ed632d>\u001b[0m in \u001b[0;36m<module>\u001b[0;34m()\u001b[0m\n\u001b[1;32m     22\u001b[0m \u001b[0;34m\u001b[0m\u001b[0m\n\u001b[1;32m     23\u001b[0m     \u001b[0mloss\u001b[0m \u001b[0;34m=\u001b[0m \u001b[0mcompute_td_error\u001b[0m\u001b[0;34m(\u001b[0m\u001b[0mbatch_size\u001b[0m\u001b[0;34m)\u001b[0m\u001b[0;34m\u001b[0m\u001b[0;34m\u001b[0m\u001b[0m\n\u001b[0;32m---> 24\u001b[0;31m     \u001b[0;32mif\u001b[0m \u001b[0mloss\u001b[0m \u001b[0;32mis\u001b[0m \u001b[0;32mnot\u001b[0m \u001b[0;32mNone\u001b[0m\u001b[0;34m:\u001b[0m \u001b[0mlosses\u001b[0m\u001b[0;34m.\u001b[0m\u001b[0mappend\u001b[0m\u001b[0;34m(\u001b[0m\u001b[0mloss\u001b[0m\u001b[0;34m.\u001b[0m\u001b[0mdata\u001b[0m\u001b[0;34m[\u001b[0m\u001b[0;36m0\u001b[0m\u001b[0;34m]\u001b[0m\u001b[0;34m)\u001b[0m\u001b[0;34m\u001b[0m\u001b[0;34m\u001b[0m\u001b[0m\n\u001b[0m",
            "\u001b[0;31mIndexError\u001b[0m: invalid index of a 0-dim tensor. Use `tensor.item()` in Python or `tensor.item<T>()` in C++ to convert a 0-dim tensor to a number"
          ]
        }
      ]
    },
    {
      "cell_type": "code",
      "metadata": {
        "id": "aZFy1C3E02gL",
        "outputId": "0ad97e5c-b746-4652-82f6-bea1759f78d6",
        "colab": {
          "base_uri": "https://localhost:8080/",
          "height": 201
        }
      },
      "source": [
        "frame_idx = 0\r\n",
        "all_rewards = []\r\n",
        "losses = []\r\n",
        "\r\n",
        "while frame_idx < max_frames:\r\n",
        "    state, goal = env.reset()\r\n",
        "    done = False\r\n",
        "    episode = []\r\n",
        "    total_reward = 0\r\n",
        "    while not done:\r\n",
        "        action = get_action(model, state, goal)\r\n",
        "        next_state, reward, done, _ = env.step(action)\r\n",
        "        replay_buffer.push(state, action, reward, next_state, done, goal)\r\n",
        "        state = next_state\r\n",
        "        total_reward += reward\r\n",
        "        frame_idx += 1\r\n",
        "        \r\n",
        "        if frame_idx % 1000 == 0:\r\n",
        "            plot(frame_idx, [np.mean(all_rewards[i:i+100]) for i in range(0, len(all_rewards), 100)], losses)\r\n",
        "        \r\n",
        "    all_rewards.append(total_reward)\r\n",
        "    \r\n",
        "    loss = compute_td_error(batch_size)\r\n",
        "    if loss is not None: losses.append(tensor.item(loss.data[0]))"
      ],
      "execution_count": 13,
      "outputs": [
        {
          "output_type": "error",
          "ename": "NameError",
          "evalue": "ignored",
          "traceback": [
            "\u001b[0;31m---------------------------------------------------------------------------\u001b[0m",
            "\u001b[0;31mNameError\u001b[0m                                 Traceback (most recent call last)",
            "\u001b[0;32m<ipython-input-13-1c1d24f135be>\u001b[0m in \u001b[0;36m<module>\u001b[0;34m()\u001b[0m\n\u001b[1;32m     22\u001b[0m \u001b[0;34m\u001b[0m\u001b[0m\n\u001b[1;32m     23\u001b[0m     \u001b[0mloss\u001b[0m \u001b[0;34m=\u001b[0m \u001b[0mcompute_td_error\u001b[0m\u001b[0;34m(\u001b[0m\u001b[0mbatch_size\u001b[0m\u001b[0;34m)\u001b[0m\u001b[0;34m\u001b[0m\u001b[0;34m\u001b[0m\u001b[0m\n\u001b[0;32m---> 24\u001b[0;31m     \u001b[0;32mif\u001b[0m \u001b[0mloss\u001b[0m \u001b[0;32mis\u001b[0m \u001b[0;32mnot\u001b[0m \u001b[0;32mNone\u001b[0m\u001b[0;34m:\u001b[0m \u001b[0mlosses\u001b[0m\u001b[0;34m.\u001b[0m\u001b[0mappend\u001b[0m\u001b[0;34m(\u001b[0m\u001b[0mtensor\u001b[0m\u001b[0;34m.\u001b[0m\u001b[0mitem\u001b[0m\u001b[0;34m(\u001b[0m\u001b[0mloss\u001b[0m\u001b[0;34m.\u001b[0m\u001b[0mdata\u001b[0m\u001b[0;34m[\u001b[0m\u001b[0;36m0\u001b[0m\u001b[0;34m]\u001b[0m\u001b[0;34m)\u001b[0m\u001b[0;34m)\u001b[0m\u001b[0;34m\u001b[0m\u001b[0;34m\u001b[0m\u001b[0m\n\u001b[0m",
            "\u001b[0;31mNameError\u001b[0m: name 'tensor' is not defined"
          ]
        }
      ]
    },
    {
      "cell_type": "markdown",
      "metadata": {
        "id": "yKMMfW6i1Inu"
      },
      "source": [
        "https://github.com/NVIDIA/flownet2-pytorch/issues/113"
      ]
    },
    {
      "cell_type": "code",
      "metadata": {
        "id": "U9SrAPme1EF7",
        "outputId": "c4a75919-9ab8-4cd4-8ea5-285a272b2cac",
        "colab": {
          "base_uri": "https://localhost:8080/",
          "height": 336
        }
      },
      "source": [
        "frame_idx = 0\r\n",
        "all_rewards = []\r\n",
        "losses = []\r\n",
        "\r\n",
        "while frame_idx < max_frames:\r\n",
        "    state, goal = env.reset()\r\n",
        "    done = False\r\n",
        "    episode = []\r\n",
        "    total_reward = 0\r\n",
        "    while not done:\r\n",
        "        action = get_action(model, state, goal)\r\n",
        "        next_state, reward, done, _ = env.step(action)\r\n",
        "        replay_buffer.push(state, action, reward, next_state, done, goal)\r\n",
        "        state = next_state\r\n",
        "        total_reward += reward\r\n",
        "        frame_idx += 1\r\n",
        "        \r\n",
        "        if frame_idx % 1000 == 0:\r\n",
        "            plot(frame_idx, [np.mean(all_rewards[i:i+100]) for i in range(0, len(all_rewards), 100)], losses)\r\n",
        "        \r\n",
        "    all_rewards.append(total_reward)\r\n",
        "    \r\n",
        "    loss = compute_td_error(batch_size)\r\n",
        "    if loss is not None: losses.append(loss.data)"
      ],
      "execution_count": 14,
      "outputs": [
        {
          "output_type": "display_data",
          "data": {
            "image/png": "[encoded data removed]",
            "text/plain": [
              "<Figure size 1440x360 with 2 Axes>"
            ]
          },
          "metadata": {
            "tags": [],
            "needs_background": "light"
          }
        }
      ]
    },
    {
      "cell_type": "markdown",
      "metadata": {
        "id": "Iq-yZ1iZ0YHk"
      },
      "source": [
        "<h1> Hindsight Experience Replay <a href=\"https://arxiv.org/abs/1707.01495\">[arxiv]</a></h1>\n",
        "<h2><a href=\"https://blog.openai.com/ingredients-for-robotics-research/#understandingher\">OpenAI Blog:</a> Understanding HER</h2>\n",
        "<p>To understand what HER does, let’s look at in the context of FetchSlide, a task where we need to learn to slide a puck across the table and hit a target. Our first attempt very likely will not be a successful one. Unless we get very lucky, the next few attempts will also likely not succeed. Typical reinforcement learning algorithms would not learn anything from this experience since they just obtain a constant reward (in this case: -1) that does not contain any learning signal.</p>\n",
        "\n",
        "<p>The key insight that HER formalizes is what humans do intuitively: Even though we have not succeeded at a specific goal, we have at least achieved a different one. So why not just pretend that we wanted to achieve this goal to begin with, instead of the one that we set out to achieve originally? By doing this substitution, the reinforcement learning algorithm can obtain a learning signal since it has achieved some goal; even if it wasn’t the one that we meant to achieve originally. If we repeat this process, we will eventually learn how to achieve arbitrary goals, including the goals that we really want to achieve.</p>\n",
        "\n",
        "<p>This approach lets us learn how to slide a puck across the table even though our reward is fully sparse and even though we may have never actually hit the desired goal early on. We call this technique Hindsight Experience Replay since it replays experience (a technique often used in off-policy RL algorithms like DQN and DDPG) with goals which are chosen in hindsight, after the episode has finished. HER can therefore be combined with any off-policy RL algorithm (for example, HER can be combined with DDPG, which we write as “DDPG + HER”).</p>"
      ]
    },
    {
      "cell_type": "code",
      "metadata": {
        "id": "8sCtIQh30YHl"
      },
      "source": [
        "num_bits = 11\n",
        "env = Env(num_bits)\n",
        "\n",
        "model        = Model(2 * num_bits, num_bits).to(device)\n",
        "target_model = Model(2 * num_bits, num_bits).to(device)\n",
        "update_target(model, target_model)\n",
        "\n",
        "#hyperparams:\n",
        "batch_size = 5\n",
        "new_goals  = 5\n",
        "max_frames = 200000\n",
        "    \n",
        "optimizer = optim.Adam(model.parameters())\n",
        "replay_buffer = ReplayBuffer(10000)"
      ],
      "execution_count": 15,
      "outputs": []
    },
    {
      "cell_type": "code",
      "metadata": {
        "id": "Nzr-lmiv0YHl",
        "outputId": "a782a79e-9134-4894-eda2-f05388c98933",
        "colab": {
          "base_uri": "https://localhost:8080/",
          "height": 336
        }
      },
      "source": [
        "frame_idx = 0\n",
        "all_rewards = []\n",
        "losses = []\n",
        "\n",
        "while frame_idx < max_frames:\n",
        "    state, goal = env.reset()\n",
        "    done = False\n",
        "    episode = []\n",
        "    total_reward = 0\n",
        "    while not done:\n",
        "        action = get_action(model, state, goal)\n",
        "        next_state, reward, done, _ = env.step(action)\n",
        "        episode.append((state, reward, done, next_state, goal))\n",
        "        replay_buffer.push(state, action, reward, next_state, done, goal)\n",
        "        state = next_state\n",
        "        total_reward += reward\n",
        "        frame_idx += 1\n",
        "        \n",
        "        if frame_idx % 10000 == 0:\n",
        "            plot(frame_idx, [np.mean(all_rewards[i:i+100]) for i in range(0, len(all_rewards), 100)], losses)\n",
        "        \n",
        "    all_rewards.append(total_reward)\n",
        "    \n",
        "    \n",
        "    new_episode = []\n",
        "    for state, reward, done, next_state, goal in episode:\n",
        "        for t in np.random.choice(num_bits, new_goals):\n",
        "            try:\n",
        "                episode[t]\n",
        "            except:\n",
        "                continue\n",
        "            new_goal = episode[t][-2]\n",
        "            if np.sum(next_state == new_goal) == num_bits:\n",
        "                reward = 0\n",
        "            else:\n",
        "                reward = -1\n",
        "            replay_buffer.push(state, action, reward, next_state, done, new_goal)\n",
        "            new_episode.append((state, reward, done, next_state, new_goal))\n",
        "    \n",
        "    \n",
        "    \n",
        "    loss = compute_td_error(batch_size)\n",
        "    if loss is not None: losses.append(loss.data)"
      ],
      "execution_count": 16,
      "outputs": [
        {
          "output_type": "display_data",
          "data": {
            "image/png": "[encoded data removed]",
            "text/plain": [
              "<Figure size 1440x360 with 2 Axes>"
            ]
          },
          "metadata": {
            "tags": [],
            "needs_background": "light"
          }
        }
      ]
    },
    {
      "cell_type": "code",
      "metadata": {
        "id": "DKrz0bV10YHm"
      },
      "source": [
        ""
      ],
      "execution_count": null,
      "outputs": []
    }
  ]
}