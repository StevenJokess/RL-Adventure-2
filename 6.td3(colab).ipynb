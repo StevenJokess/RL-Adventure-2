{
  "nbformat": 4,
  "nbformat_minor": 0,
  "metadata": {
    "kernelspec": {
      "display_name": "Python [conda env:pytorch4]",
      "language": "python",
      "name": "conda-env-pytorch4-py"
    },
    "language_info": {
      "codemirror_mode": {
        "name": "ipython",
        "version": 3
      },
      "file_extension": ".py",
      "mimetype": "text/x-python",
      "name": "python",
      "nbconvert_exporter": "python",
      "pygments_lexer": "ipython3",
      "version": "3.5.5"
    },
    "colab": {
      "name": "6.td3.ipynb",
      "provenance": []
    },
    "accelerator": "GPU"
  },
  "cells": [
    {
      "cell_type": "code",
      "metadata": {
        "id": "tmVNQxjyr4a0",
        "outputId": "9cf2b03e-86ed-4865-e73f-00d84efa3665",
        "colab": {
          "base_uri": "https://localhost:8080/"
        }
      },
      "source": [
        "!pip install git+https://github.com/StevenJokess/RL-Adventure-2\r\n",
        "!git clone https://github.com/StevenJokess/RL-Adventure-2\r\n",
        "%cd RL-Adventure-2\r\n",
        "!ls"
      ],
      "execution_count": 1,
      "outputs": [
        {
          "output_type": "stream",
          "text": [
            "Collecting git+https://github.com/StevenJokess/RL-Adventure-2\n",
            "  Cloning https://github.com/StevenJokess/RL-Adventure-2 to /tmp/pip-req-build-351ztx4i\n",
            "  Running command git clone -q https://github.com/StevenJokess/RL-Adventure-2 /tmp/pip-req-build-351ztx4i\n",
            "\u001b[31mERROR: Command errored out with exit status 1: python setup.py egg_info Check the logs for full command output.\u001b[0m\n",
            "Cloning into 'RL-Adventure-2'...\n",
            "remote: Enumerating objects: 19, done.\u001b[K\n",
            "remote: Counting objects: 100% (19/19), done.\u001b[K\n",
            "remote: Compressing objects: 100% (18/18), done.\u001b[K\n",
            "remote: Total 57 (delta 6), reused 0 (delta 0), pack-reused 38\u001b[K\n",
            "Unpacking objects: 100% (57/57), done.\n",
            "/content/RL-Adventure-2\n",
            "'1.actor-critic(colab).ipynb'  '4.acer(colab).ipynb'\t     8.gail.ipynb\n",
            " 1.actor-critic.ipynb\t        4.acer.ipynb\t\t     9.her.ipynb\n",
            "'2.gae(colab).ipynb'\t       '5.ddpg(colab).ipynb'\t     common\n",
            " 2.gae.ipynb\t\t        5.ddpg.ipynb\t\t     README.md\n",
            "'3.ppo(colab).ipynb'\t        6.td3.ipynb\n",
            " 3.ppo.ipynb\t\t       '7.soft actor-critic.ipynb'\n"
          ],
          "name": "stdout"
        }
      ]
    },
    {
      "cell_type": "code",
      "metadata": {
        "id": "RqPK0cTErx-A"
      },
      "source": [
        "import math\n",
        "import random\n",
        "\n",
        "import gym\n",
        "import numpy as np\n",
        "\n",
        "import torch\n",
        "import torch.nn as nn\n",
        "import torch.optim as optim\n",
        "import torch.nn.functional as F\n",
        "from torch.distributions import Normal"
      ],
      "execution_count": 2,
      "outputs": []
    },
    {
      "cell_type": "code",
      "metadata": {
        "id": "G4wL6DHrrx-M"
      },
      "source": [
        "from IPython.display import clear_output\n",
        "import matplotlib.pyplot as plt\n",
        "%matplotlib inline"
      ],
      "execution_count": 3,
      "outputs": []
    },
    {
      "cell_type": "markdown",
      "metadata": {
        "id": "tG0Ms9hsrx-N"
      },
      "source": [
        "<h2>Use CUDA</h2>"
      ]
    },
    {
      "cell_type": "code",
      "metadata": {
        "id": "I-W8bG0zrx-O"
      },
      "source": [
        "use_cuda = torch.cuda.is_available()\n",
        "device   = torch.device(\"cuda\" if use_cuda else \"cpu\")"
      ],
      "execution_count": 4,
      "outputs": []
    },
    {
      "cell_type": "markdown",
      "metadata": {
        "id": "PHF3CAyprx-O"
      },
      "source": [
        "<h2>Replay Buffer</h2>"
      ]
    },
    {
      "cell_type": "code",
      "metadata": {
        "id": "dUx-v9PPrx-O"
      },
      "source": [
        "class ReplayBuffer:\n",
        "    def __init__(self, capacity):\n",
        "        self.capacity = capacity\n",
        "        self.buffer = []\n",
        "        self.position = 0\n",
        "    \n",
        "    def push(self, state, action, reward, next_state, done):\n",
        "        if len(self.buffer) < self.capacity:\n",
        "            self.buffer.append(None)\n",
        "        self.buffer[self.position] = (state, action, reward, next_state, done)\n",
        "        self.position = (self.position + 1) % self.capacity\n",
        "    \n",
        "    def sample(self, batch_size):\n",
        "        batch = random.sample(self.buffer, batch_size)\n",
        "        state, action, reward, next_state, done = map(np.stack, zip(*batch))\n",
        "        return state, action, reward, next_state, done\n",
        "    \n",
        "    def __len__(self):\n",
        "        return len(self.buffer)"
      ],
      "execution_count": 5,
      "outputs": []
    },
    {
      "cell_type": "code",
      "metadata": {
        "id": "byrIyrdbrx-P"
      },
      "source": [
        "class NormalizedActions(gym.ActionWrapper):\n",
        "    def _action(self, action):\n",
        "        low  = self.action_space.low\n",
        "        high = self.action_space.high\n",
        "        \n",
        "        action = low + (action + 1.0) * 0.5 * (high - low)\n",
        "        action = np.clip(action, low, high)\n",
        "        \n",
        "        return action\n",
        "\n",
        "    def _reverse_action(self, action):\n",
        "        low  = self.action_space.low\n",
        "        high = self.action_space.high\n",
        "        \n",
        "        action = 2 * (action - low) / (high - low) - 1\n",
        "        action = np.clip(action, low, high)\n",
        "        \n",
        "        return actions"
      ],
      "execution_count": 6,
      "outputs": []
    },
    {
      "cell_type": "markdown",
      "metadata": {
        "id": "xnD61DOlrx-Q"
      },
      "source": [
        "<h2>Adding Gaussian Noise</h2>"
      ]
    },
    {
      "cell_type": "code",
      "metadata": {
        "id": "mASqU2inrx-Q"
      },
      "source": [
        "class GaussianExploration(object):\n",
        "    def __init__(self, action_space, max_sigma=1.0, min_sigma=1.0, decay_period=1000000):\n",
        "        self.low  = action_space.low\n",
        "        self.high = action_space.high\n",
        "        self.max_sigma = max_sigma\n",
        "        self.min_sigma = min_sigma\n",
        "        self.decay_period = decay_period\n",
        "    \n",
        "    def get_action(self, action, t=0):\n",
        "        sigma  = self.max_sigma - (self.max_sigma - self.min_sigma) * min(1.0, t / self.decay_period)\n",
        "        action = action + np.random.normal(size=len(action)) * sigma\n",
        "        return np.clip(action, self.low, self.high)\n",
        "    \n",
        "#https://github.com/vitchyr/rlkit/blob/master/rlkit/exploration_strategies/gaussian_strategy.py"
      ],
      "execution_count": 7,
      "outputs": []
    },
    {
      "cell_type": "code",
      "metadata": {
        "id": "A31IxTDQrx-R"
      },
      "source": [
        "def soft_update(net, target_net, soft_tau=1e-2):\n",
        "    for target_param, param in zip(target_net.parameters(), net.parameters()):\n",
        "            target_param.data.copy_(\n",
        "                target_param.data * (1.0 - soft_tau) + param.data * soft_tau\n",
        "            )\n",
        "            \n",
        "def plot(frame_idx, rewards):\n",
        "    clear_output(True)\n",
        "    plt.figure(figsize=(20,5))\n",
        "    plt.subplot(131)\n",
        "    plt.title('frame %s. reward: %s' % (frame_idx, rewards[-1]))\n",
        "    plt.plot(rewards)\n",
        "    plt.show()"
      ],
      "execution_count": 8,
      "outputs": []
    },
    {
      "cell_type": "markdown",
      "metadata": {
        "id": "o-eGIsXorx-R"
      },
      "source": [
        "<h1>Addressing Function Approximation Error in Actor-Critic Methods</h1>\n",
        "<h2><a href=\"https://arxiv.org/abs/1802.09477\">Arxiv</a></h2>"
      ]
    },
    {
      "cell_type": "code",
      "metadata": {
        "id": "NkLxX5Sgrx-S"
      },
      "source": [
        "class ValueNetwork(nn.Module):\n",
        "    def __init__(self, num_inputs, num_actions, hidden_size, init_w=3e-3):\n",
        "        super(ValueNetwork, self).__init__()\n",
        "        \n",
        "        self.linear1 = nn.Linear(num_inputs + num_actions, hidden_size)\n",
        "        self.linear2 = nn.Linear(hidden_size, hidden_size)\n",
        "        self.linear3 = nn.Linear(hidden_size, 1)\n",
        "        \n",
        "        self.linear3.weight.data.uniform_(-init_w, init_w)\n",
        "        self.linear3.bias.data.uniform_(-init_w, init_w)\n",
        "        \n",
        "    def forward(self, state, action):\n",
        "        x = torch.cat([state, action], 1)\n",
        "        x = F.relu(self.linear1(x))\n",
        "        x = F.relu(self.linear2(x))\n",
        "        x = self.linear3(x)\n",
        "        return x\n",
        "    \n",
        "\n",
        "class PolicyNetwork(nn.Module):\n",
        "    def __init__(self, num_inputs, num_actions, hidden_size, init_w=3e-3):\n",
        "        super(PolicyNetwork, self).__init__()\n",
        "        \n",
        "        self.linear1 = nn.Linear(num_inputs, hidden_size)\n",
        "        self.linear2 = nn.Linear(hidden_size, hidden_size)\n",
        "        self.linear3 = nn.Linear(hidden_size, num_actions)\n",
        "        \n",
        "        self.linear3.weight.data.uniform_(-init_w, init_w)\n",
        "        self.linear3.bias.data.uniform_(-init_w, init_w)\n",
        "        \n",
        "    def forward(self, state):\n",
        "        x = F.relu(self.linear1(state))\n",
        "        x = F.relu(self.linear2(x))\n",
        "        x = F.tanh(self.linear3(x))\n",
        "        return x\n",
        "    \n",
        "    def get_action(self, state):\n",
        "        state  = torch.FloatTensor(state).unsqueeze(0).to(device)\n",
        "        action = self.forward(state)\n",
        "        return action.detach().cpu().numpy()[0]"
      ],
      "execution_count": 9,
      "outputs": []
    },
    {
      "cell_type": "markdown",
      "metadata": {
        "id": "q-CTUqCwrx-T"
      },
      "source": [
        "<h2>Twin Dueling DDPG Update</h2>"
      ]
    },
    {
      "cell_type": "code",
      "metadata": {
        "id": "SQAxFoC_rx-T"
      },
      "source": [
        "def td3_update(step,\n",
        "           batch_size,\n",
        "           gamma = 0.99,\n",
        "           soft_tau=1e-2,\n",
        "           noise_std = 0.2,\n",
        "           noise_clip=0.5,\n",
        "           policy_update=2,\n",
        "          ):\n",
        "\n",
        "    state, action, reward, next_state, done = replay_buffer.sample(batch_size)\n",
        "\n",
        "    state      = torch.FloatTensor(state).to(device)\n",
        "    next_state = torch.FloatTensor(next_state).to(device)\n",
        "    action     = torch.FloatTensor(action).to(device)\n",
        "    reward     = torch.FloatTensor(reward).unsqueeze(1).to(device)\n",
        "    done       = torch.FloatTensor(np.float32(done)).unsqueeze(1).to(device)\n",
        "\n",
        "    next_action = target_policy_net(next_state)\n",
        "    noise = torch.normal(torch.zeros(next_action.size()), noise_std).to(device)\n",
        "    noise = torch.clamp(noise, -noise_clip, noise_clip)\n",
        "    next_action += noise\n",
        "\n",
        "    target_q_value1  = target_value_net1(next_state, next_action)\n",
        "    target_q_value2  = target_value_net2(next_state, next_action)\n",
        "    target_q_value   = torch.min(target_q_value1, target_q_value2)\n",
        "    expected_q_value = reward + (1.0 - done) * gamma * target_q_value\n",
        "\n",
        "    q_value1 = value_net1(state, action)\n",
        "    q_value2 = value_net2(state, action)\n",
        "\n",
        "    value_loss1 = value_criterion(q_value1, expected_q_value.detach())\n",
        "    value_loss2 = value_criterion(q_value2, expected_q_value.detach())\n",
        "\n",
        "    value_optimizer1.zero_grad()\n",
        "    value_loss1.backward()\n",
        "    value_optimizer1.step()\n",
        "\n",
        "    value_optimizer2.zero_grad()\n",
        "    value_loss2.backward()\n",
        "    value_optimizer2.step()\n",
        "\n",
        "    if step % policy_update == 0:\n",
        "        policy_loss = value_net1(state, policy_net(state))\n",
        "        policy_loss = -policy_loss.mean()\n",
        "\n",
        "        policy_optimizer.zero_grad()\n",
        "        policy_loss.backward()\n",
        "        policy_optimizer.step()\n",
        "\n",
        "        soft_update(value_net1, target_value_net1, soft_tau=soft_tau)\n",
        "        soft_update(value_net2, target_value_net2, soft_tau=soft_tau)\n",
        "        soft_update(policy_net, target_policy_net, soft_tau=soft_tau)"
      ],
      "execution_count": 10,
      "outputs": []
    },
    {
      "cell_type": "code",
      "metadata": {
        "id": "_SDDgHoQrx-U"
      },
      "source": [
        "env = NormalizedActions(gym.make('Pendulum-v0'))\n",
        "noise = GaussianExploration(env.action_space)\n",
        "\n",
        "state_dim  = env.observation_space.shape[0]\n",
        "action_dim = env.action_space.shape[0]\n",
        "hidden_dim = 256\n",
        "\n",
        "value_net1 = ValueNetwork(state_dim, action_dim, hidden_dim).to(device)\n",
        "value_net2 = ValueNetwork(state_dim, action_dim, hidden_dim).to(device)\n",
        "policy_net = PolicyNetwork(state_dim, action_dim, hidden_dim).to(device)\n",
        "\n",
        "target_value_net1 = ValueNetwork(state_dim, action_dim, hidden_dim).to(device)\n",
        "target_value_net2 = ValueNetwork(state_dim, action_dim, hidden_dim).to(device)\n",
        "target_policy_net = PolicyNetwork(state_dim, action_dim, hidden_dim).to(device)\n",
        "\n",
        "soft_update(value_net1, target_value_net1, soft_tau=1.0)\n",
        "soft_update(value_net2, target_value_net2, soft_tau=1.0)\n",
        "soft_update(policy_net, target_policy_net, soft_tau=1.0)\n",
        "\n",
        "\n",
        "value_criterion = nn.MSELoss()\n",
        "\n",
        "policy_lr = 1e-3\n",
        "value_lr  = 1e-3\n",
        "\n",
        "value_optimizer1 = optim.Adam(value_net1.parameters(), lr=value_lr)\n",
        "value_optimizer2 = optim.Adam(value_net2.parameters(), lr=value_lr)\n",
        "policy_optimizer = optim.Adam(policy_net.parameters(), lr=policy_lr)\n",
        "\n",
        "\n",
        "replay_buffer_size = 1000000\n",
        "replay_buffer = ReplayBuffer(replay_buffer_size)"
      ],
      "execution_count": 11,
      "outputs": []
    },
    {
      "cell_type": "code",
      "metadata": {
        "id": "d9uCzE-0rx-X"
      },
      "source": [
        "max_frames  = 10000\n",
        "max_steps   = 500\n",
        "frame_idx   = 0\n",
        "rewards     = []\n",
        "batch_size  = 128"
      ],
      "execution_count": 12,
      "outputs": []
    },
    {
      "cell_type": "code",
      "metadata": {
        "id": "PCFdIO2jrx-X",
        "outputId": "327bacb3-4b9f-4bbd-fee2-746ef0927fb2",
        "colab": {
          "base_uri": "https://localhost:8080/",
          "height": 415
        }
      },
      "source": [
        "while frame_idx < max_frames:\n",
        "    state = env.reset()\n",
        "    episode_reward = 0\n",
        "    \n",
        "    for step in range(max_steps):\n",
        "        action = policy_net.get_action(state)\n",
        "        action = noise.get_action(action, step)\n",
        "        next_state, reward, done, _ = env.step(action)\n",
        "        \n",
        "        replay_buffer.push(state, action, reward, next_state, done)\n",
        "        if len(replay_buffer) > batch_size:\n",
        "            td3_update(step, batch_size)\n",
        "        \n",
        "        state = next_state\n",
        "        episode_reward += reward\n",
        "        frame_idx += 1\n",
        "        \n",
        "        if frame_idx % 1000 == 0:\n",
        "            plot(frame_idx, rewards)\n",
        "        \n",
        "        if done:\n",
        "            break\n",
        "        \n",
        "    rewards.append(episode_reward)"
      ],
      "execution_count": 13,
      "outputs": [
        {
          "output_type": "stream",
          "text": [
            "/usr/local/lib/python3.6/dist-packages/torch/nn/functional.py:1628: UserWarning: nn.functional.tanh is deprecated. Use torch.tanh instead.\n",
            "  warnings.warn(\"nn.functional.tanh is deprecated. Use torch.tanh instead.\")\n"
          ],
          "name": "stderr"
        },
        {
          "output_type": "error",
          "ename": "NotImplementedError",
          "evalue": "ignored",
          "traceback": [
            "\u001b[0;31m---------------------------------------------------------------------------\u001b[0m",
            "\u001b[0;31mNotImplementedError\u001b[0m                       Traceback (most recent call last)",
            "\u001b[0;32m<ipython-input-13-050336afce78>\u001b[0m in \u001b[0;36m<module>\u001b[0;34m()\u001b[0m\n\u001b[1;32m      6\u001b[0m         \u001b[0maction\u001b[0m \u001b[0;34m=\u001b[0m \u001b[0mpolicy_net\u001b[0m\u001b[0;34m.\u001b[0m\u001b[0mget_action\u001b[0m\u001b[0;34m(\u001b[0m\u001b[0mstate\u001b[0m\u001b[0;34m)\u001b[0m\u001b[0;34m\u001b[0m\u001b[0;34m\u001b[0m\u001b[0m\n\u001b[1;32m      7\u001b[0m         \u001b[0maction\u001b[0m \u001b[0;34m=\u001b[0m \u001b[0mnoise\u001b[0m\u001b[0;34m.\u001b[0m\u001b[0mget_action\u001b[0m\u001b[0;34m(\u001b[0m\u001b[0maction\u001b[0m\u001b[0;34m,\u001b[0m \u001b[0mstep\u001b[0m\u001b[0;34m)\u001b[0m\u001b[0;34m\u001b[0m\u001b[0;34m\u001b[0m\u001b[0m\n\u001b[0;32m----> 8\u001b[0;31m         \u001b[0mnext_state\u001b[0m\u001b[0;34m,\u001b[0m \u001b[0mreward\u001b[0m\u001b[0;34m,\u001b[0m \u001b[0mdone\u001b[0m\u001b[0;34m,\u001b[0m \u001b[0m_\u001b[0m \u001b[0;34m=\u001b[0m \u001b[0menv\u001b[0m\u001b[0;34m.\u001b[0m\u001b[0mstep\u001b[0m\u001b[0;34m(\u001b[0m\u001b[0maction\u001b[0m\u001b[0;34m)\u001b[0m\u001b[0;34m\u001b[0m\u001b[0;34m\u001b[0m\u001b[0m\n\u001b[0m\u001b[1;32m      9\u001b[0m \u001b[0;34m\u001b[0m\u001b[0m\n\u001b[1;32m     10\u001b[0m         \u001b[0mreplay_buffer\u001b[0m\u001b[0;34m.\u001b[0m\u001b[0mpush\u001b[0m\u001b[0;34m(\u001b[0m\u001b[0mstate\u001b[0m\u001b[0;34m,\u001b[0m \u001b[0maction\u001b[0m\u001b[0;34m,\u001b[0m \u001b[0mreward\u001b[0m\u001b[0;34m,\u001b[0m \u001b[0mnext_state\u001b[0m\u001b[0;34m,\u001b[0m \u001b[0mdone\u001b[0m\u001b[0;34m)\u001b[0m\u001b[0;34m\u001b[0m\u001b[0;34m\u001b[0m\u001b[0m\n",
            "\u001b[0;32m/usr/local/lib/python3.6/dist-packages/gym/core.py\u001b[0m in \u001b[0;36mstep\u001b[0;34m(self, action)\u001b[0m\n\u001b[1;32m    290\u001b[0m \u001b[0;34m\u001b[0m\u001b[0m\n\u001b[1;32m    291\u001b[0m     \u001b[0;32mdef\u001b[0m \u001b[0mstep\u001b[0m\u001b[0;34m(\u001b[0m\u001b[0mself\u001b[0m\u001b[0;34m,\u001b[0m \u001b[0maction\u001b[0m\u001b[0;34m)\u001b[0m\u001b[0;34m:\u001b[0m\u001b[0;34m\u001b[0m\u001b[0;34m\u001b[0m\u001b[0m\n\u001b[0;32m--> 292\u001b[0;31m         \u001b[0;32mreturn\u001b[0m \u001b[0mself\u001b[0m\u001b[0;34m.\u001b[0m\u001b[0menv\u001b[0m\u001b[0;34m.\u001b[0m\u001b[0mstep\u001b[0m\u001b[0;34m(\u001b[0m\u001b[0mself\u001b[0m\u001b[0;34m.\u001b[0m\u001b[0maction\u001b[0m\u001b[0;34m(\u001b[0m\u001b[0maction\u001b[0m\u001b[0;34m)\u001b[0m\u001b[0;34m)\u001b[0m\u001b[0;34m\u001b[0m\u001b[0;34m\u001b[0m\u001b[0m\n\u001b[0m\u001b[1;32m    293\u001b[0m \u001b[0;34m\u001b[0m\u001b[0m\n\u001b[1;32m    294\u001b[0m     \u001b[0;32mdef\u001b[0m \u001b[0maction\u001b[0m\u001b[0;34m(\u001b[0m\u001b[0mself\u001b[0m\u001b[0;34m,\u001b[0m \u001b[0maction\u001b[0m\u001b[0;34m)\u001b[0m\u001b[0;34m:\u001b[0m\u001b[0;34m\u001b[0m\u001b[0;34m\u001b[0m\u001b[0m\n",
            "\u001b[0;32m/usr/local/lib/python3.6/dist-packages/gym/core.py\u001b[0m in \u001b[0;36maction\u001b[0;34m(self, action)\u001b[0m\n\u001b[1;32m    293\u001b[0m \u001b[0;34m\u001b[0m\u001b[0m\n\u001b[1;32m    294\u001b[0m     \u001b[0;32mdef\u001b[0m \u001b[0maction\u001b[0m\u001b[0;34m(\u001b[0m\u001b[0mself\u001b[0m\u001b[0;34m,\u001b[0m \u001b[0maction\u001b[0m\u001b[0;34m)\u001b[0m\u001b[0;34m:\u001b[0m\u001b[0;34m\u001b[0m\u001b[0;34m\u001b[0m\u001b[0m\n\u001b[0;32m--> 295\u001b[0;31m         \u001b[0;32mraise\u001b[0m \u001b[0mNotImplementedError\u001b[0m\u001b[0;34m\u001b[0m\u001b[0;34m\u001b[0m\u001b[0m\n\u001b[0m\u001b[1;32m    296\u001b[0m \u001b[0;34m\u001b[0m\u001b[0m\n\u001b[1;32m    297\u001b[0m     \u001b[0;32mdef\u001b[0m \u001b[0mreverse_action\u001b[0m\u001b[0;34m(\u001b[0m\u001b[0mself\u001b[0m\u001b[0;34m,\u001b[0m \u001b[0maction\u001b[0m\u001b[0;34m)\u001b[0m\u001b[0;34m:\u001b[0m\u001b[0;34m\u001b[0m\u001b[0;34m\u001b[0m\u001b[0m\n",
            "\u001b[0;31mNotImplementedError\u001b[0m: "
          ]
        }
      ]
    },
    {
      "cell_type": "code",
      "metadata": {
        "id": "AAYcjk6prx-Y"
      },
      "source": [
        ""
      ],
      "execution_count": null,
      "outputs": []
    }
  ]
}